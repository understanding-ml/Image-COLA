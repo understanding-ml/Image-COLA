{
 "cells": [
  {
   "cell_type": "code",
   "execution_count": 2,
   "id": "initial_id",
   "metadata": {
    "collapsed": true,
    "ExecuteTime": {
     "end_time": "2024-07-01T11:02:15.344476Z",
     "start_time": "2024-07-01T11:02:09.718934Z"
    }
   },
   "outputs": [],
   "source": [
    "import pandas as pd\n",
    "import tensorflow as tf\n",
    "tf.get_logger().setLevel(40)  # suppress deprecation messages\n",
    "tf.compat.v1.disable_v2_behavior()  # disable TF2 behaviour as alibi code still relies on TF1 constructs\n",
    "import tensorflow.keras as keras\n",
    "from tensorflow.keras import backend as K\n",
    "from tensorflow.keras.layers import Conv2D, Dense, Dropout, Flatten, MaxPooling2D, Input, UpSampling2D, Reshape\n",
    "from tensorflow.keras.models import Model, load_model\n",
    "from tensorflow.keras.utils import to_categorical\n",
    "\n",
    "import matplotlib.pyplot as plt\n",
    "import numpy as np\n",
    "from skimage import io\n",
    "import os\n",
    "from alibi.explainers import CEM"
   ]
  },
  {
   "cell_type": "code",
   "outputs": [
    {
     "name": "stdout",
     "output_type": "stream",
     "text": [
      "TF version:  2.12.0\n",
      "Eager execution enabled:  False\n"
     ]
    }
   ],
   "source": [
    "print('TF version: ', tf.__version__)\n",
    "print('Eager execution enabled: ', tf.executing_eagerly())  # False"
   ],
   "metadata": {
    "collapsed": false,
    "ExecuteTime": {
     "end_time": "2024-07-01T11:02:17.070039Z",
     "start_time": "2024-07-01T11:02:17.066052Z"
    }
   },
   "id": "72105ea6453be989",
   "execution_count": 3
  },
  {
   "cell_type": "code",
   "outputs": [
    {
     "name": "stdout",
     "output_type": "stream",
     "text": [
      "x_train shape: (60000, 28, 28) y_train shape: (60000,)\n",
      "(10000, 28, 28)\n"
     ]
    },
    {
     "data": {
      "text/plain": "<Figure size 640x480 with 1 Axes>",
      "image/png": "[encoded data removed]"
     },
     "metadata": {},
     "output_type": "display_data"
    }
   ],
   "source": [
    "# Load MNIST dataset\n",
    "(x_train, y_train), (x_test, y_test) = keras.datasets.mnist.load_data()\n",
    "print('x_train shape:', x_train.shape, 'y_train shape:', y_train.shape)\n",
    "print(x_test.shape)\n",
    "plt.gray()\n",
    "plt.imshow(x_test[4])\n",
    "plt.show()"
   ],
   "metadata": {
    "collapsed": false,
    "ExecuteTime": {
     "end_time": "2024-07-01T11:02:19.516765Z",
     "start_time": "2024-07-01T11:02:19.271718Z"
    }
   },
   "id": "536bfc29699a1cf6",
   "execution_count": 4
  },
  {
   "cell_type": "code",
   "outputs": [
    {
     "name": "stdout",
     "output_type": "stream",
     "text": [
      "x_train shape: (60000, 784) x_test shape: (10000, 784)\n",
      "y_train shape: (60000, 10) y_test shape: (10000, 10)\n"
     ]
    }
   ],
   "source": [
    "# Normalize and reshape the data\n",
    "x_train = x_train.astype('float32') / 255\n",
    "x_test = x_test.astype('float32') / 255\n",
    "x_train = x_train.reshape(60000,784,)\n",
    "x_test = x_test.reshape(10000,784,)\n",
    "print('x_train shape:', x_train.shape, 'x_test shape:', x_test.shape)\n",
    "y_train = to_categorical(y_train)\n",
    "y_test = to_categorical(y_test)\n",
    "print('y_train shape:', y_train.shape, 'y_test shape:', y_test.shape)\n",
    "\n",
    "xmin, xmax = -.5, .5\n",
    "x_train = ((x_train - x_train.min()) / (x_train.max() - x_train.min())) * (xmax - xmin) + xmin\n",
    "x_test = ((x_test - x_test.min()) / (x_test.max() - x_test.min())) * (xmax - xmin) + xmin"
   ],
   "metadata": {
    "collapsed": false,
    "ExecuteTime": {
     "end_time": "2024-07-01T11:02:27.952227Z",
     "start_time": "2024-07-01T11:02:27.660872Z"
    }
   },
   "id": "99d295f2bad06d76",
   "execution_count": 5
  },
  {
   "cell_type": "code",
   "outputs": [],
   "source": [
    "# Define CNN model\n",
    "def cnn_model():\n",
    "    # Input layer for flattened image\n",
    "    x_in = Input(shape=(784,))\n",
    "    # Reshape layer to convert input to 28x28x1 image\n",
    "    x = Reshape((28, 28, 1))(x_in)\n",
    "    \n",
    "    # Convolutional layers\n",
    "    x = Conv2D(filters=64, kernel_size=2, padding='same', activation='relu')(x)\n",
    "    x = MaxPooling2D(pool_size=2)(x)  # Pooling layer\n",
    "    x = Dropout(0.3)(x)  # Dropout layer\n",
    "\n",
    "    x = Conv2D(filters=32, kernel_size=2, padding='same', activation='relu')(x)\n",
    "    x = MaxPooling2D(pool_size=2)(x)\n",
    "    x = Dropout(0.3)(x)\n",
    "\n",
    "    x = Conv2D(filters=32, kernel_size=2, padding='same', activation='relu')(x)\n",
    "    x = MaxPooling2D(pool_size=2)(x)\n",
    "    x = Dropout(0.3)(x)\n",
    "\n",
    "    # Fully connected layers\n",
    "    x = Flatten()(x)\n",
    "    x = Dense(256, activation='relu')(x)\n",
    "    x = Dropout(0.5)(x)\n",
    "    x_out = Dense(10, activation='softmax')(x)\n",
    "\n",
    "    # Create model\n",
    "    cnn = Model(inputs=x_in, outputs=x_out)\n",
    "    cnn.compile(loss='categorical_crossentropy', optimizer='adam', metrics=['accuracy'])\n",
    "\n",
    "    return cnn"
   ],
   "metadata": {
    "collapsed": false,
    "ExecuteTime": {
     "end_time": "2024-07-01T11:02:32.749023Z",
     "start_time": "2024-07-01T11:02:32.732076Z"
    }
   },
   "id": "57bdfceaf368dae1",
   "execution_count": 6
  },
  {
   "cell_type": "code",
   "outputs": [
    {
     "name": "stdout",
     "output_type": "stream",
     "text": [
      "Model: \"model\"\n",
      "_________________________________________________________________\n",
      " Layer (type)                Output Shape              Param #   \n",
      "=================================================================\n",
      " input_1 (InputLayer)        [(None, 784)]             0         \n",
      "                                                                 \n",
      " reshape (Reshape)           (None, 28, 28, 1)         0         \n",
      "                                                                 \n",
      " conv2d (Conv2D)             (None, 28, 28, 64)        320       \n",
      "                                                                 \n",
      " max_pooling2d (MaxPooling2D  (None, 14, 14, 64)       0         \n",
      " )                                                               \n",
      "                                                                 \n",
      " dropout (Dropout)           (None, 14, 14, 64)        0         \n",
      "                                                                 \n",
      " conv2d_1 (Conv2D)           (None, 14, 14, 32)        8224      \n",
      "                                                                 \n",
      " max_pooling2d_1 (MaxPooling  (None, 7, 7, 32)         0         \n",
      " 2D)                                                             \n",
      "                                                                 \n",
      " dropout_1 (Dropout)         (None, 7, 7, 32)          0         \n",
      "                                                                 \n",
      " conv2d_2 (Conv2D)           (None, 7, 7, 32)          4128      \n",
      "                                                                 \n",
      " max_pooling2d_2 (MaxPooling  (None, 3, 3, 32)         0         \n",
      " 2D)                                                             \n",
      "                                                                 \n",
      " dropout_2 (Dropout)         (None, 3, 3, 32)          0         \n",
      "                                                                 \n",
      " flatten (Flatten)           (None, 288)               0         \n",
      "                                                                 \n",
      " dense (Dense)               (None, 256)               73984     \n",
      "                                                                 \n",
      " dropout_3 (Dropout)         (None, 256)               0         \n",
      "                                                                 \n",
      " dense_1 (Dense)             (None, 10)                2570      \n",
      "                                                                 \n",
      "=================================================================\n",
      "Total params: 89,226\n",
      "Trainable params: 89,226\n",
      "Non-trainable params: 0\n",
      "_________________________________________________________________\n",
      "Train on 60000 samples\n",
      "Epoch 1/5\n",
      "60000/60000 [==============================] - 19s 315us/sample - loss: 0.5247 - acc: 0.8229\n",
      "Epoch 2/5\n",
      "60000/60000 [==============================] - 19s 314us/sample - loss: 0.1805 - acc: 0.9434\n",
      "Epoch 3/5\n",
      "60000/60000 [==============================] - 21s 345us/sample - loss: 0.1445 - acc: 0.9553\n",
      "Epoch 4/5\n",
      "60000/60000 [==============================] - 21s 354us/sample - loss: 0.1220 - acc: 0.9612\n",
      "Epoch 5/5\n",
      "60000/60000 [==============================] - 21s 354us/sample - loss: 0.1120 - acc: 0.9648\n"
     ]
    },
    {
     "name": "stderr",
     "output_type": "stream",
     "text": [
      "D:\\Anaconda\\envs\\course02502\\lib\\site-packages\\keras\\engine\\training_v1.py:2335: UserWarning: `Model.state_updates` will be removed in a future version. This property should not be used in TensorFlow 2.0, as `updates` are applied automatically.\n",
      "  updates = self.state_updates\n"
     ]
    },
    {
     "name": "stdout",
     "output_type": "stream",
     "text": [
      "Test accuracy:  0.987\n"
     ]
    }
   ],
   "source": [
    "\n",
    "# Create and train CNN model\n",
    "cnn = cnn_model()\n",
    "cnn.summary()\n",
    "cnn.fit(x_train, y_train, batch_size=64, epochs=5, verbose=1)\n",
    "# Save the trained model\n",
    "cnn.save('mnist_cnn.h5', save_format='h5')\n",
    "# Evaluate the model performance on test dataset\n",
    "cnn = load_model('mnist_cnn.h5')\n",
    "score = cnn.evaluate(x_test, y_test, verbose=0)\n",
    "print('Test accuracy: ', score[1])"
   ],
   "metadata": {
    "collapsed": false,
    "ExecuteTime": {
     "end_time": "2024-07-01T11:04:17.307956Z",
     "start_time": "2024-07-01T11:02:34.520625Z"
    }
   },
   "id": "e41157b9b36bf3b6",
   "execution_count": 7
  },
  {
   "cell_type": "code",
   "outputs": [
    {
     "name": "stdout",
     "output_type": "stream",
     "text": [
      "Model: \"model_1\"\n",
      "_________________________________________________________________\n",
      " Layer (type)                Output Shape              Param #   \n",
      "=================================================================\n",
      " input_2 (InputLayer)        [(None, 784)]             0         \n",
      "                                                                 \n",
      " reshape_1 (Reshape)         (None, 28, 28, 1)         0         \n",
      "                                                                 \n",
      " conv2d_3 (Conv2D)           (None, 28, 28, 16)        160       \n",
      "                                                                 \n",
      " conv2d_4 (Conv2D)           (None, 28, 28, 16)        2320      \n",
      "                                                                 \n",
      " max_pooling2d_3 (MaxPooling  (None, 14, 14, 16)       0         \n",
      " 2D)                                                             \n",
      "                                                                 \n",
      " conv2d_5 (Conv2D)           (None, 14, 14, 1)         145       \n",
      "                                                                 \n",
      " conv2d_6 (Conv2D)           (None, 14, 14, 16)        160       \n",
      "                                                                 \n",
      " up_sampling2d (UpSampling2D  (None, 28, 28, 16)       0         \n",
      " )                                                               \n",
      "                                                                 \n",
      " conv2d_7 (Conv2D)           (None, 28, 28, 16)        2320      \n",
      "                                                                 \n",
      " conv2d_8 (Conv2D)           (None, 28, 28, 1)         145       \n",
      "                                                                 \n",
      " flatten_1 (Flatten)         (None, 784)               0         \n",
      "                                                                 \n",
      "=================================================================\n",
      "Total params: 5,250\n",
      "Trainable params: 5,250\n",
      "Non-trainable params: 0\n",
      "_________________________________________________________________\n"
     ]
    }
   ],
   "source": [
    "def ae_model():\n",
    "    # Input accepts a flat vector of size 784\n",
    "    x_in = Input(shape=(784,))\n",
    "    # Reshape flat vector to (28, 28, 1) for convolutional layers\n",
    "    x = Reshape((28, 28, 1))(x_in)\n",
    "    \n",
    "    # Encoder\n",
    "    x = Conv2D(16, (3, 3), activation='relu', padding='same')(x)\n",
    "    x = Conv2D(16, (3, 3), activation='relu', padding='same')(x)\n",
    "    x = MaxPooling2D((2, 2), padding='same')(x)\n",
    "    encoded = Conv2D(1, (3, 3), activation=None, padding='same')(x)  # Activated relu for stability\n",
    "    \n",
    "    # Decoder\n",
    "    x = Conv2D(16, (3, 3), activation='relu', padding='same')(encoded)\n",
    "    x = UpSampling2D((2, 2))(x)\n",
    "    x = Conv2D(16, (3, 3), activation='relu', padding='same')(x)\n",
    "    x = Conv2D(1, (3, 3), activation=None, padding='same')(x)  # Using sigmoid for final layer if images are normalized [0,1]\n",
    "    x = Flatten()(x)  # Flatten the output to match the input shape\n",
    "    \n",
    "    # Create the autoencoder model\n",
    "    autoencoder = Model(inputs=x_in, outputs=x)\n",
    "    autoencoder.compile(optimizer='adam', loss='mse')\n",
    "\n",
    "    return autoencoder\n",
    "\n",
    "x_train_flat = x_train.reshape(-1, 784)  \n",
    "x_test_flat = x_test.reshape(-1, 784)   \n",
    "\n",
    "ae = ae_model()\n",
    "ae.summary()\n",
    "\n",
    "# Train the model\n",
    "ae.fit(x_train, x_train, batch_size=128, epochs=4, validation_data=(x_test, x_test), verbose=0)\n",
    "\n",
    "# Save the trained model\n",
    "ae.save('mnist_ae.h5', save_format='h5')"
   ],
   "metadata": {
    "collapsed": false,
    "ExecuteTime": {
     "end_time": "2024-07-01T11:06:38.595574Z",
     "start_time": "2024-07-01T11:04:54.362146Z"
    }
   },
   "id": "50a67c161b958e1c",
   "execution_count": 8
  },
  {
   "cell_type": "code",
   "outputs": [
    {
     "name": "stderr",
     "output_type": "stream",
     "text": [
      "D:\\Anaconda\\envs\\course02502\\lib\\site-packages\\keras\\engine\\training_v1.py:2359: UserWarning: `Model.state_updates` will be removed in a future version. This property should not be used in TensorFlow 2.0, as `updates` are applied automatically.\n",
      "  updates=self.state_updates,\n"
     ]
    },
    {
     "data": {
      "text/plain": "<Figure size 2000x400 with 10 Axes>",
      "image/png": "[encoded data removed]"
     },
     "metadata": {},
     "output_type": "display_data"
    },
    {
     "data": {
      "text/plain": "<Figure size 640x480 with 1 Axes>",
      "image/png": "[encoded data removed]"
     },
     "metadata": {},
     "output_type": "display_data"
    }
   ],
   "source": [
    "ae = load_model('mnist_ae.h5')\n",
    "\n",
    "decoded_imgs = ae.predict(x_test)\n",
    "n = 5\n",
    "plt.figure(figsize=(20, 4))\n",
    "for i in range(1, n+1):\n",
    "    # display original\n",
    "    ax = plt.subplot(2, n, i)\n",
    "    plt.imshow(x_test[i].reshape(28, 28))\n",
    "    ax.get_xaxis().set_visible(False)\n",
    "    ax.get_yaxis().set_visible(False)\n",
    "    # display reconstruction\n",
    "    ax = plt.subplot(2, n, i + n)\n",
    "    plt.imshow(decoded_imgs[i].reshape(28, 28))\n",
    "    ax.get_xaxis().set_visible(False)\n",
    "    ax.get_yaxis().set_visible(False)\n",
    "plt.show()\n",
    "\n",
    "idx = 15\n",
    "X = x_test_flat[idx].reshape(1, 784)\n",
    "\n",
    "plt.imshow(X.reshape(28, 28));"
   ],
   "metadata": {
    "collapsed": false,
    "ExecuteTime": {
     "end_time": "2024-07-01T11:07:10.400583Z",
     "start_time": "2024-07-01T11:07:07.850032Z"
    }
   },
   "id": "3f4cbeb57b201e19",
   "execution_count": 9
  },
  {
   "cell_type": "code",
   "outputs": [
    {
     "data": {
      "text/plain": "(5, 0.9997644)"
     },
     "execution_count": 10,
     "metadata": {},
     "output_type": "execute_result"
    }
   ],
   "source": [
    "cnn.predict(X).argmax(), cnn.predict(X).max()"
   ],
   "metadata": {
    "collapsed": false,
    "ExecuteTime": {
     "end_time": "2024-07-01T11:07:15.108914Z",
     "start_time": "2024-07-01T11:07:15.051105Z"
    }
   },
   "id": "83621b927c135f52",
   "execution_count": 10
  },
  {
   "cell_type": "code",
   "outputs": [],
   "source": [
    "mode = 'PN'  # 'PN' (pertinent negative) or 'PP' (pertinent positive)\n",
    "shape = (1,) + x_train.shape[1:]  # instance shape\n",
    "kappa = 0.  # minimum difference needed between the prediction probability for the perturbed instance on the\n",
    "            # class predicted by the original instance and the max probability on the other classes\n",
    "            # in order for the first loss term to be minimized\n",
    "beta = .1  # weight of the L1 loss term\n",
    "gamma = 100  # weight of the optional auto-encoder loss term\n",
    "c_init = 1.  # initial weight c of the loss term encouraging to predict a different class (PN) or\n",
    "              # the same class (PP) for the perturbed instance compared to the original instance to be explained\n",
    "c_steps = 10  # nb of updates for c\n",
    "max_iterations = 1000  # nb of iterations per value of c\n",
    "feature_range = (x_train.min(),x_train.max())  # feature range for the perturbed instance\n",
    "clip = (-1000.,1000.)  # gradient clipping\n",
    "lr = 1e-2  # initial learning rate\n",
    "no_info_val = -1. # a value, float or feature-wise, which can be seen as containing no info to make a prediction\n",
    "                  # perturbations towards this value means removing features, and away means adding features\n",
    "                  # for our MNIST images, the background (-0.5) is the least informative,\n",
    "                  # so positive/negative perturbations imply adding/removing features"
   ],
   "metadata": {
    "collapsed": false,
    "ExecuteTime": {
     "end_time": "2024-07-01T11:07:18.526493Z",
     "start_time": "2024-07-01T11:07:18.495597Z"
    }
   },
   "id": "cb736d5f0da7691d",
   "execution_count": 11
  },
  {
   "cell_type": "code",
   "outputs": [
    {
     "name": "stdout",
     "output_type": "stream",
     "text": [
      "Pertinent negative prediction: 8\n"
     ]
    },
    {
     "data": {
      "text/plain": "<Figure size 640x480 with 1 Axes>",
      "image/png": "[encoded data removed]"
     },
     "metadata": {},
     "output_type": "display_data"
    }
   ],
   "source": [
    "cem = CEM(cnn, mode, shape, kappa=kappa, beta=beta, feature_range=feature_range,\n",
    "          gamma=gamma, ae_model=ae, max_iterations=max_iterations,\n",
    "          c_init=c_init, c_steps=c_steps, learning_rate_init=lr, clip=clip, no_info_val=no_info_val)\n",
    "\n",
    "explanation = cem.explain(X)\n",
    "\n",
    "print(f'Pertinent negative prediction: {explanation.PN_pred}')\n",
    "plt.imshow(explanation.PN.reshape(28, 28));"
   ],
   "metadata": {
    "collapsed": false,
    "ExecuteTime": {
     "end_time": "2024-07-01T11:07:36.150375Z",
     "start_time": "2024-07-01T11:07:22.563448Z"
    }
   },
   "id": "cc5b090b2ddf93e",
   "execution_count": 12
  },
  {
   "cell_type": "code",
   "outputs": [
    {
     "name": "stdout",
     "output_type": "stream",
     "text": [
      "Pertinent positive prediction: 5\n"
     ]
    },
    {
     "data": {
      "text/plain": "<Figure size 640x480 with 1 Axes>",
      "image/png": "[encoded data removed]"
     },
     "metadata": {},
     "output_type": "display_data"
    }
   ],
   "source": [
    "mode = 'PP'\n",
    "# initialize CEM explainer and explain instance\n",
    "cem = CEM(cnn, mode, shape, kappa=kappa, beta=beta, feature_range=feature_range,\n",
    "          gamma=gamma, ae_model=ae, max_iterations=max_iterations,\n",
    "          c_init=c_init, c_steps=c_steps, learning_rate_init=lr, clip=clip, no_info_val=no_info_val)\n",
    "\n",
    "explanation = cem.explain(X)\n",
    "\n",
    "print(f'Pertinent positive prediction: {explanation.PP_pred}')\n",
    "plt.imshow(explanation.PP.reshape(28, 28));"
   ],
   "metadata": {
    "collapsed": false,
    "ExecuteTime": {
     "end_time": "2024-06-20T17:25:42.205666Z",
     "start_time": "2024-06-20T17:25:09.429143Z"
    }
   },
   "id": "2ac31d52eb2ddc79",
   "execution_count": 125
  },
  {
   "cell_type": "code",
   "outputs": [],
   "source": [
    "# os.remove('mnist_cnn.h5')\n",
    "# os.remove('mnist_ae.h5')"
   ],
   "metadata": {
    "collapsed": false,
    "ExecuteTime": {
     "end_time": "2024-06-20T17:38:18.621002Z",
     "start_time": "2024-06-20T17:38:18.615026Z"
    }
   },
   "id": "6d53d03932914790",
   "execution_count": 146
  },
  {
   "cell_type": "markdown",
   "source": [
    "## Counter Factual Image R"
   ],
   "metadata": {
    "collapsed": false
   },
   "id": "df77be8c83e516be"
  },
  {
   "cell_type": "code",
   "outputs": [
    {
     "name": "stdout",
     "output_type": "stream",
     "text": [
      "280\n"
     ]
    },
    {
     "data": {
      "text/plain": "<Figure size 640x480 with 1 Axes>",
      "image/png": "[encoded data removed]"
     },
     "metadata": {},
     "output_type": "display_data"
    },
    {
     "data": {
      "text/plain": "<Figure size 640x480 with 1 Axes>",
      "image/png": "[encoded data removed]"
     },
     "metadata": {},
     "output_type": "display_data"
    }
   ],
   "source": [
    "R = explanation.PN.reshape(28,28).copy()\n",
    "c_ik = np.where(X.reshape(28,28) != explanation.PN.reshape(28,28), 1, 0)\n",
    "changed_pixel = np.sum(c_ik)\n",
    "print(changed_pixel)\n",
    "plt.imshow(c_ik.reshape(28,28),cmap='gray')\n",
    "plt.title('c_ik Matrix')\n",
    "plt.show()\n",
    "plt.imshow(R)\n",
    "plt.title('PN')\n",
    "plt.show()"
   ],
   "metadata": {
    "collapsed": false,
    "ExecuteTime": {
     "end_time": "2024-07-01T11:07:43.786545Z",
     "start_time": "2024-07-01T11:07:43.618803Z"
    }
   },
   "id": "443e1418c81aae77",
   "execution_count": 13
  },
  {
   "cell_type": "code",
   "outputs": [
    {
     "data": {
      "text/plain": "<Figure size 640x480 with 1 Axes>",
      "image/png": "[encoded data removed]"
     },
     "metadata": {},
     "output_type": "display_data"
    }
   ],
   "source": [
    "PN_optimized1 = R.copy()\n",
    "c_ik_cp = c_ik.copy()\n",
    "target_label = explanation.PN_pred.copy()  # Assuming this is correctly obtained from somewhere\n",
    "X_reshaped = X.reshape(28,28)  # Assuming X was initially (784,)\n",
    "\n",
    "for i in range(28):\n",
    "    for j in range(28):\n",
    "        # Only try to restore pixel where c_ik is 1\n",
    "        if c_ik_cp[i, j] == 1:\n",
    "            PN_temp = PN_optimized1.copy()\n",
    "            PN_temp[i, j] = X_reshaped[i, j]\n",
    "            # Ensure correct reshaping for model prediction\n",
    "            prediction_temp = cnn.predict(PN_temp.reshape(1, 784))\n",
    "            # Check if the predicted class matches the target label\n",
    "            if prediction_temp.argmax() == target_label:\n",
    "                PN_optimized1[i, j] = X_reshaped[i, j]\n",
    "                c_ik_cp[i, j] = 0  # Mark this pixel as no longer changeable\n",
    "\n",
    "plt.imshow(PN_optimized1.reshape(28, 28), cmap='gray')\n",
    "plt.title('Optimized Pertinent Negative Image')\n",
    "plt.show()"
   ],
   "metadata": {
    "collapsed": false,
    "ExecuteTime": {
     "end_time": "2024-07-01T11:07:48.910650Z",
     "start_time": "2024-07-01T11:07:48.627278Z"
    }
   },
   "id": "1bea886192e4b539",
   "execution_count": 14
  },
  {
   "cell_type": "code",
   "outputs": [
    {
     "name": "stdout",
     "output_type": "stream",
     "text": [
      "52\n"
     ]
    },
    {
     "data": {
      "text/plain": "<Figure size 640x480 with 1 Axes>",
      "image/png": "[encoded data removed]"
     },
     "metadata": {},
     "output_type": "display_data"
    },
    {
     "name": "stdout",
     "output_type": "stream",
     "text": [
      "8\n"
     ]
    }
   ],
   "source": [
    "c_ik_cp = np.where(X.reshape(28,28) != PN_optimized1.reshape(28,28), 1, 0)\n",
    "changed_pixel_opti = np.sum(c_ik_cp)\n",
    "print(changed_pixel_opti)\n",
    "plt.imshow(c_ik_cp.reshape(28,28),cmap='gray')\n",
    "plt.title('c_ik_new Matrix')\n",
    "plt.show()\n",
    "print(cnn.predict(PN_optimized1.reshape(1,784)).argmax())"
   ],
   "metadata": {
    "collapsed": false,
    "ExecuteTime": {
     "end_time": "2024-07-01T11:07:53.224280Z",
     "start_time": "2024-07-01T11:07:53.134227Z"
    }
   },
   "id": "ae039f5b1900ff0c",
   "execution_count": 15
  },
  {
   "cell_type": "markdown",
   "source": [
    "## Compute Matching"
   ],
   "metadata": {
    "collapsed": false
   },
   "id": "b010bf9a29c3e26a"
  },
  {
   "cell_type": "code",
   "outputs": [
    {
     "name": "stdout",
     "output_type": "stream",
     "text": [
      "Joint Distribution matrix p:\n",
      " [[1.92962380e-06 1.94690953e-06 1.94690953e-06 ... 1.94690953e-06\n",
      "  1.94690953e-06 1.94690953e-06]\n",
      " [1.92962380e-06 1.94690953e-06 1.94690953e-06 ... 1.94690953e-06\n",
      "  1.94690953e-06 1.94690953e-06]\n",
      " [1.92962380e-06 1.94690953e-06 1.94690953e-06 ... 1.94690953e-06\n",
      "  1.94690953e-06 1.94690953e-06]\n",
      " ...\n",
      " [1.92962380e-06 1.94690953e-06 1.94690953e-06 ... 1.94690953e-06\n",
      "  1.94690953e-06 1.94690953e-06]\n",
      " [1.92962380e-06 1.94690953e-06 1.94690953e-06 ... 1.94690953e-06\n",
      "  1.94690953e-06 1.94690953e-06]\n",
      " [1.92962380e-06 1.94690953e-06 1.94690953e-06 ... 1.94690953e-06\n",
      "  1.94690953e-06 1.94690953e-06]]\n",
      "(784, 784)\n"
     ]
    }
   ],
   "source": [
    "import ot\n",
    "X_cp = X.copy()\n",
    "R_cp = R.copy()\n",
    "c_ik_cp = c_ik.copy()\n",
    "target_label = explanation.PN_pred.copy()\n",
    "\n",
    "def compute_ot_distance_matrix(x, r):\n",
    "    n = x.shape[0]\n",
    "    m = r.shape[0]\n",
    "    distance_matrix = np.zeros((n, m))\n",
    "    for i in range(n):\n",
    "        for j in range(m):\n",
    "            distance_matrix[i, j] = np.linalg.norm(x[i] - r[j])\n",
    "    return distance_matrix\n",
    "\n",
    "def compute_joint_distribution(x, r, reg=0.1):\n",
    "    distance_matrix = compute_ot_distance_matrix(x, r)\n",
    "    p = ot.sinkhorn(np.ones(x.shape[0]) / x.shape[0], np.ones(r.shape[0]) / r.shape[0], distance_matrix, reg)\n",
    "    return p\n",
    "\n",
    "x = X_cp.reshape(-1,1)\n",
    "r = R_cp.reshape(-1,1)\n",
    "p = compute_joint_distribution(x,r)\n",
    "p = p / np.sum(p)\n",
    "print(\"Joint Distribution matrix p:\\n\",p)\n",
    "print(p.shape)"
   ],
   "metadata": {
    "collapsed": false,
    "ExecuteTime": {
     "end_time": "2024-07-01T11:08:05.751172Z",
     "start_time": "2024-07-01T11:08:04.408104Z"
    }
   },
   "id": "e664cfcba27ec8b0",
   "execution_count": 16
  },
  {
   "cell_type": "code",
   "outputs": [
    {
     "data": {
      "text/plain": "<Figure size 290.611x250 with 2 Axes>",
      "image/png": "[encoded data removed]"
     },
     "metadata": {},
     "output_type": "display_data"
    }
   ],
   "source": [
    "import pandas as pd\n",
    "import seaborn as sns\n",
    "X_cp_df = pd.DataFrame(X_cp.reshape(-1,1))\n",
    "R_cp_df = pd.DataFrame(R_cp.reshape(-1,1))\n",
    "\n",
    "X_cp_df['label'] = 'X_cp'\n",
    "R_cp_df['label'] = 'R_cp'\n",
    "\n",
    "combined_df = pd.concat([X_cp_df, R_cp_df],ignore_index=True)\n",
    "sns.pairplot(combined_df, hue='label', plot_kws={'alpha':0.5}, diag_kind='kde')\n",
    "plt.show()"
   ],
   "metadata": {
    "collapsed": false,
    "ExecuteTime": {
     "end_time": "2024-07-01T11:08:11.506434Z",
     "start_time": "2024-07-01T11:08:11.292020Z"
    }
   },
   "id": "6611ceb0b18c36e5",
   "execution_count": 17
  },
  {
   "cell_type": "markdown",
   "source": [
    "## Compute Shapely"
   ],
   "metadata": {
    "collapsed": false
   },
   "id": "981ee8dacb15a572"
  },
  {
   "cell_type": "code",
   "outputs": [
    {
     "data": {
      "text/plain": "  0%|          | 0/1 [00:00<?, ?it/s]",
      "application/vnd.jupyter.widget-view+json": {
       "version_major": 2,
       "version_minor": 0,
       "model_id": "10f21c4854e1434e8e4accb1e05209d3"
      }
     },
     "metadata": {},
     "output_type": "display_data"
    },
    {
     "name": "stdout",
     "output_type": "stream",
     "text": [
      "[[[ 0.00000000e+00  0.00000000e+00 -3.48429801e-05 ...  0.00000000e+00\n",
      "    0.00000000e+00 -8.06549711e-05]\n",
      "  [ 0.00000000e+00  0.00000000e+00  0.00000000e+00 ...  0.00000000e+00\n",
      "    0.00000000e+00  0.00000000e+00]\n",
      "  [ 0.00000000e+00  0.00000000e+00  0.00000000e+00 ...  0.00000000e+00\n",
      "    0.00000000e+00  0.00000000e+00]\n",
      "  ...\n",
      "  [ 0.00000000e+00  0.00000000e+00  0.00000000e+00 ...  0.00000000e+00\n",
      "    0.00000000e+00  0.00000000e+00]\n",
      "  [ 0.00000000e+00  0.00000000e+00  0.00000000e+00 ...  0.00000000e+00\n",
      "    0.00000000e+00  0.00000000e+00]\n",
      "  [ 0.00000000e+00  0.00000000e+00  0.00000000e+00 ...  0.00000000e+00\n",
      "    0.00000000e+00  0.00000000e+00]]]\n"
     ]
    }
   ],
   "source": [
    "import shap\n",
    "R_cp_flat = R_cp.reshape(1, 784)\n",
    "X_cp_flat = X_cp.reshape(1, 784)\n",
    "\n",
    "# Calculate marginal probabilities\n",
    "p_mar = np.sum(p, axis=0)\n",
    "\n",
    "# Create a SHAP explainer based on the sampled data\n",
    "explainer_temp = shap.KernelExplainer(\n",
    "    cnn.predict, X_cp_flat\n",
    ")\n",
    "\n",
    "# Calculate SHAP values for R_cp_flat\n",
    "shap_sample_size = 'auto'\n",
    "shap_values = explainer_temp.shap_values(R_cp_flat, nsamples=shap_sample_size)\n",
    "\n",
    "print(shap_values)"
   ],
   "metadata": {
    "collapsed": false,
    "ExecuteTime": {
     "end_time": "2024-07-01T11:15:30.414757Z",
     "start_time": "2024-07-01T11:15:24.274733Z"
    }
   },
   "id": "6dc2ff6794760bd6",
   "execution_count": 23
  },
  {
   "cell_type": "markdown",
   "source": [],
   "metadata": {
    "collapsed": false
   },
   "id": "adcae070f4ca6038"
  },
  {
   "cell_type": "code",
   "outputs": [
    {
     "data": {
      "text/plain": "<Figure size 1500x500 with 4 Axes>",
      "image/png": "[encoded data removed]"
     },
     "metadata": {},
     "output_type": "display_data"
    }
   ],
   "source": [
    "predicted_class = 8\n",
    "\n",
    "shap_values_class = shap_values[0, :, predicted_class-1].reshape(28, 28)\n",
    "\n",
    "fig, axes = plt.subplots(1, 3, figsize=(15, 5))\n",
    "\n",
    "axes[0].imshow(X_cp_flat.reshape(28, 28), cmap='gray')\n",
    "axes[0].set_title('Original Image')\n",
    "axes[0].axis('off')\n",
    "\n",
    "shap_display = axes[1].imshow(shap_values_class, cmap='viridis')\n",
    "axes[1].set_title(f'SHAP Values for Class {predicted_class}')\n",
    "axes[1].axis('off')\n",
    "\n",
    "cbar = fig.colorbar(shap_display, ax=axes[1], orientation='vertical')\n",
    "cbar.set_label('SHAP value magnitude')\n",
    "\n",
    "effect_display = axes[2].imshow(R_cp_flat.reshape(28, 28) + shap_values_class * 0.5, cmap='gray')\n",
    "axes[2].set_title('Effect of SHAP Values on Image')\n",
    "axes[2].axis('off')\n",
    "\n",
    "plt.tight_layout()\n",
    "plt.show()\n"
   ],
   "metadata": {
    "collapsed": false,
    "ExecuteTime": {
     "end_time": "2024-07-01T11:21:19.059564Z",
     "start_time": "2024-07-01T11:21:18.529338Z"
    }
   },
   "id": "3706203cfe245bca",
   "execution_count": 34
  },
  {
   "cell_type": "markdown",
   "source": [
    "## Compute Pixel Values"
   ],
   "metadata": {
    "collapsed": false
   },
   "id": "b0e4d412327b1361"
  },
  {
   "cell_type": "code",
   "outputs": [
    {
     "name": "stdout",
     "output_type": "stream",
     "text": [
      "[[-0.5        -0.5        -0.5        -0.5        -0.5        -0.5\n",
      "  -0.5        -0.5        -0.5        -0.5        -0.5        -0.5\n",
      "  -0.5        -0.5        -0.5        -0.5        -0.5        -0.5\n",
      "  -0.5        -0.5        -0.5        -0.5        -0.5        -0.5\n",
      "  -0.5        -0.5        -0.5        -0.5        -0.5        -0.5\n",
      "  -0.5        -0.5        -0.5        -0.5        -0.5        -0.5\n",
      "  -0.5        -0.5        -0.5        -0.5        -0.5        -0.5\n",
      "  -0.5        -0.5        -0.5        -0.5        -0.5        -0.5\n",
      "  -0.5        -0.5        -0.5        -0.5        -0.5        -0.5\n",
      "  -0.5        -0.5        -0.5        -0.5        -0.5        -0.5\n",
      "  -0.5        -0.5        -0.5        -0.5        -0.5        -0.5\n",
      "  -0.5        -0.5        -0.5        -0.5        -0.5        -0.5\n",
      "  -0.5        -0.5        -0.5        -0.5        -0.5        -0.5\n",
      "  -0.5        -0.5        -0.5        -0.5        -0.5        -0.5\n",
      "  -0.5        -0.5        -0.5        -0.5        -0.5        -0.5\n",
      "  -0.5        -0.5        -0.5        -0.5        -0.5        -0.5\n",
      "  -0.5        -0.5        -0.5        -0.5        -0.5        -0.5\n",
      "  -0.5        -0.5        -0.5        -0.5        -0.5        -0.5\n",
      "  -0.5        -0.5        -0.5        -0.5        -0.5        -0.5\n",
      "  -0.5        -0.5        -0.5        -0.5        -0.5        -0.5\n",
      "  -0.5        -0.5        -0.5        -0.5        -0.5        -0.5\n",
      "  -0.5        -0.5        -0.5        -0.5        -0.5        -0.5\n",
      "  -0.5        -0.5        -0.5        -0.5        -0.5        -0.5\n",
      "  -0.5        -0.5        -0.5        -0.5        -0.5        -0.5\n",
      "  -0.5        -0.5        -0.5        -0.5        -0.5        -0.5\n",
      "  -0.5        -0.5        -0.5        -0.5        -0.5        -0.5\n",
      "  -0.5        -0.5        -0.5        -0.5        -0.5        -0.5\n",
      "  -0.5        -0.5        -0.5        -0.5        -0.5        -0.5\n",
      "  -0.5        -0.5        -0.5        -0.5        -0.5        -0.5\n",
      "  -0.5        -0.5        -0.5        -0.5        -0.5        -0.5\n",
      "  -0.5        -0.5        -0.5        -0.5        -0.5        -0.5\n",
      "  -0.5        -0.5        -0.5        -0.5        -0.5        -0.5\n",
      "  -0.5        -0.5        -0.5        -0.5        -0.5        -0.5\n",
      "  -0.5        -0.5        -0.5        -0.5        -0.5        -0.5\n",
      "  -0.5        -0.5        -0.5        -0.5        -0.5        -0.5\n",
      "  -0.5        -0.5        -0.5        -0.5        -0.5        -0.5\n",
      "  -0.5        -0.5        -0.5        -0.5        -0.5        -0.5\n",
      "  -0.5        -0.5        -0.5        -0.5        -0.5        -0.5\n",
      "  -0.5        -0.5        -0.5        -0.5        -0.5        -0.5\n",
      "  -0.5        -0.5        -0.5        -0.5        -0.5        -0.5\n",
      "  -0.5        -0.5        -0.5        -0.5        -0.5        -0.5\n",
      "  -0.5        -0.5        -0.5        -0.5        -0.5        -0.5\n",
      "  -0.5        -0.5        -0.5        -0.5        -0.5        -0.5\n",
      "  -0.5        -0.5        -0.5        -0.5        -0.5        -0.5\n",
      "  -0.5        -0.5        -0.5        -0.5        -0.5        -0.5\n",
      "  -0.5        -0.5        -0.5        -0.5        -0.5        -0.5\n",
      "  -0.5        -0.5        -0.5        -0.5        -0.5        -0.5\n",
      "  -0.5        -0.5        -0.5        -0.5        -0.5        -0.5\n",
      "  -0.5        -0.5        -0.5        -0.5        -0.5        -0.5\n",
      "  -0.5        -0.5        -0.5        -0.5        -0.5        -0.5\n",
      "  -0.5        -0.5        -0.5        -0.5        -0.5        -0.5\n",
      "  -0.5        -0.5        -0.5        -0.5        -0.5        -0.5\n",
      "  -0.5        -0.5        -0.5        -0.5        -0.5        -0.5\n",
      "  -0.5        -0.5        -0.5        -0.5        -0.5        -0.5\n",
      "  -0.5        -0.5        -0.5        -0.5        -0.5        -0.5\n",
      "  -0.5        -0.5        -0.5        -0.5        -0.5        -0.5\n",
      "  -0.5        -0.5        -0.5        -0.5        -0.5        -0.5\n",
      "  -0.5        -0.5        -0.5        -0.5        -0.5        -0.5\n",
      "  -0.5        -0.5        -0.5        -0.5        -0.5        -0.5\n",
      "  -0.5        -0.5        -0.5        -0.5        -0.5        -0.5\n",
      "  -0.5        -0.5        -0.5        -0.5        -0.5        -0.5\n",
      "  -0.5        -0.5        -0.5        -0.5        -0.5        -0.5\n",
      "  -0.5        -0.5        -0.5        -0.5        -0.5        -0.5\n",
      "  -0.5        -0.5        -0.5        -0.5        -0.5        -0.5\n",
      "  -0.5        -0.5        -0.5        -0.5        -0.5        -0.5\n",
      "  -0.5        -0.5        -0.5        -0.5        -0.5        -0.5\n",
      "  -0.5        -0.5        -0.5        -0.5        -0.5        -0.5\n",
      "  -0.5        -0.5        -0.5        -0.5        -0.5        -0.5\n",
      "  -0.5        -0.5        -0.5        -0.5        -0.5        -0.5\n",
      "  -0.5        -0.5        -0.5        -0.5        -0.5        -0.5\n",
      "  -0.5        -0.5        -0.5        -0.5        -0.5        -0.5\n",
      "  -0.5        -0.5        -0.5        -0.5        -0.5        -0.5\n",
      "  -0.5        -0.5        -0.5        -0.5        -0.5        -0.5\n",
      "  -0.5        -0.5        -0.5        -0.5        -0.5        -0.5\n",
      "  -0.5        -0.5        -0.5        -0.5        -0.5        -0.5\n",
      "  -0.5        -0.5        -0.5        -0.5        -0.5        -0.5\n",
      "  -0.5        -0.5        -0.5        -0.5        -0.5        -0.5\n",
      "  -0.5        -0.5        -0.5        -0.5        -0.5        -0.5\n",
      "  -0.5        -0.5        -0.5        -0.5        -0.5        -0.5\n",
      "  -0.5        -0.5        -0.5        -0.5        -0.5        -0.5\n",
      "  -0.5        -0.5        -0.5        -0.5        -0.5        -0.5\n",
      "  -0.5        -0.5        -0.5        -0.5        -0.5        -0.5\n",
      "  -0.5        -0.5        -0.5        -0.5        -0.5        -0.5\n",
      "  -0.5        -0.5        -0.5        -0.5        -0.5        -0.5\n",
      "  -0.5        -0.5        -0.5        -0.5        -0.5        -0.5\n",
      "  -0.5        -0.5        -0.5        -0.5        -0.5        -0.5\n",
      "  -0.5        -0.5        -0.5        -0.5        -0.5        -0.5\n",
      "  -0.5        -0.5        -0.5        -0.5        -0.5        -0.5\n",
      "  -0.5        -0.5        -0.5        -0.5        -0.5        -0.5\n",
      "  -0.5        -0.5        -0.5        -0.5        -0.5        -0.5\n",
      "  -0.5        -0.5        -0.5        -0.5        -0.5        -0.5\n",
      "  -0.5        -0.5        -0.5        -0.5        -0.5        -0.5\n",
      "  -0.5        -0.5        -0.5        -0.5        -0.5        -0.5\n",
      "  -0.5        -0.5        -0.5        -0.5        -0.5        -0.5\n",
      "  -0.5        -0.5        -0.5        -0.5        -0.5        -0.5\n",
      "  -0.5        -0.5        -0.5        -0.5        -0.5        -0.5\n",
      "  -0.5        -0.5        -0.5        -0.5        -0.5        -0.5\n",
      "  -0.5        -0.5        -0.5        -0.5        -0.5        -0.5\n",
      "  -0.5        -0.5        -0.5        -0.5        -0.5        -0.5\n",
      "  -0.5        -0.5        -0.5        -0.5        -0.5        -0.5\n",
      "  -0.5        -0.5        -0.5        -0.5        -0.5        -0.5\n",
      "  -0.5        -0.5        -0.5        -0.5        -0.5        -0.5\n",
      "  -0.5        -0.5        -0.5        -0.5        -0.5        -0.5\n",
      "  -0.5        -0.5        -0.5        -0.5        -0.5        -0.5\n",
      "  -0.5        -0.5        -0.5        -0.5        -0.5        -0.5\n",
      "  -0.5        -0.5        -0.5        -0.5        -0.5        -0.5\n",
      "  -0.5        -0.5        -0.5        -0.5        -0.5        -0.5\n",
      "  -0.5        -0.5        -0.5        -0.5        -0.5        -0.46078432\n",
      "  -0.46078432 -0.46078432 -0.42156863 -0.42156863 -0.42156863 -0.42156863\n",
      "  -0.41764706 -0.41764706 -0.41764706 -0.41764706 -0.38235295 -0.3681033\n",
      "  -0.3407863  -0.3392157  -0.3392157  -0.3392157  -0.30392158 -0.30392158\n",
      "  -0.30392158 -0.3        -0.3        -0.3        -0.3        -0.3\n",
      "  -0.3        -0.2607527  -0.25686276 -0.2248008  -0.22156861 -0.18235293\n",
      "  -0.17843136 -0.17843136 -0.17843136 -0.17843136 -0.17843136 -0.13445348\n",
      "  -0.13445348 -0.09999999 -0.09999999 -0.09999999 -0.09999999 -0.09999999\n",
      "  -0.09999999 -0.09999999 -0.06078431 -0.06078431 -0.05686274 -0.02118138\n",
      "  -0.01764706  0.01372552  0.01764709  0.06098282  0.06098282  0.06098282\n",
      "   0.09215689  0.09215689  0.09215689  0.09215689  0.09215689  0.09891476\n",
      "   0.10453548  0.10453548  0.13529414  0.13529414  0.17303541  0.17721936\n",
      "   0.17721936  0.19243869  0.19243869  0.21764708  0.2529412   0.2529412\n",
      "   0.26030508  0.29607844  0.29607844  0.29607844  0.29607844  0.29607844\n",
      "   0.29607844  0.29607844  0.29607844  0.29607844  0.33137256  0.33137256\n",
      "   0.33137256  0.33137256  0.33529413  0.33529413  0.33529413  0.3392157\n",
      "   0.3392157   0.3745098   0.3745098   0.3745098   0.40980393  0.40980393\n",
      "   0.4137255   0.4137255   0.41764706  0.41764706  0.41764706  0.41764706\n",
      "   0.45686275  0.45686275  0.4882353   0.4882353   0.4882353   0.4882353\n",
      "   0.4882353   0.4882353   0.49215686  0.49215686  0.49215686  0.49215686\n",
      "   0.49215686  0.49215686  0.49215686  0.49215686  0.49215686  0.49215686\n",
      "   0.49215686  0.49215686  0.49215686  0.49215686  0.49215686  0.49215686\n",
      "   0.49215686  0.49215686  0.49215686  0.49607843  0.49607843  0.49607843\n",
      "   0.49607843  0.49607843  0.49607843  0.5       ]]\n"
     ]
    }
   ],
   "source": [
    "tau_i = np.argmax(p, axis=1)\n",
    "q_max = R_cp_flat[:,tau_i]"
   ],
   "metadata": {
    "collapsed": false,
    "ExecuteTime": {
     "end_time": "2024-07-01T11:24:45.907908Z",
     "start_time": "2024-07-01T11:24:45.889883Z"
    }
   },
   "id": "be68efd82226b5c0",
   "execution_count": 38
  },
  {
   "cell_type": "code",
   "outputs": [
    {
     "data": {
      "text/plain": "<Figure size 600x600 with 1 Axes>",
      "image/png": "[encoded data removed]"
     },
     "metadata": {},
     "output_type": "display_data"
    }
   ],
   "source": [
    "q_max_reshaped = q_max.reshape(28, 28)\n",
    "X_cp_reshaped = X_cp.reshape(28, 28)\n",
    "\n",
    "# Plotting the images with different colors\n",
    "fig, ax = plt.subplots(figsize=(6, 6))\n",
    "\n",
    "# Create a base image with zeros\n",
    "base_image = np.zeros((28, 28, 3))\n",
    "\n",
    "# Normalize the images for better visualization\n",
    "q_max_norm = (q_max_reshaped - q_max_reshaped.min()) / (q_max_reshaped.max() - q_max_reshaped.min())\n",
    "X_cp_norm = (X_cp_reshaped - X_cp_reshaped.min()) / (X_cp_reshaped.max() - X_cp_reshaped.min())\n",
    "\n",
    "# Set q_max values to red channel\n",
    "base_image[:, :, 0] = q_max_norm\n",
    "\n",
    "# Set X_cp values to green channel\n",
    "base_image[:, :, 1] = X_cp_norm\n",
    "\n",
    "# Display the combined image\n",
    "ax.imshow(base_image)\n",
    "ax.set_title('q_max (Red) and X_cp (Green)')\n",
    "ax.axis('off')\n",
    "\n",
    "plt.show()"
   ],
   "metadata": {
    "collapsed": false,
    "ExecuteTime": {
     "end_time": "2024-07-01T11:41:09.940688Z",
     "start_time": "2024-07-01T11:41:09.830056Z"
    }
   },
   "id": "95d2208f8a08c135",
   "execution_count": 47
  },
  {
   "cell_type": "code",
   "outputs": [
    {
     "name": "stdout",
     "output_type": "stream",
     "text": [
      "Final C: 52, Predicted Class: 5\n"
     ]
    }
   ],
   "source": [
    "C = 52\n",
    "\n",
    "# Get the indices of the top C SHAP values\n",
    "flat_shap_values = shap_values_class.flatten()\n",
    "top_indices = np.argsort(-flat_shap_values)[:C]\n",
    "\n",
    "# Create a copy of X_cp_flat to modify\n",
    "new_image_flat = X_cp_flat.copy()\n",
    "\n",
    "# Replace the values in new_image_flat at top_indices with corresponding values from q_max\n",
    "new_image_flat[:, top_indices] = q_max[:,top_indices]\n",
    "\n",
    "# Reshape the new image\n",
    "new_image = new_image_flat.reshape(1, 784)\n",
    "\n",
    "# Predict the class of the new image\n",
    "predicted_new = cnn.predict(new_image).argmax()\n",
    "\n",
    "# Iterate until the predicted class is no longer 8 or C reaches 0\n",
    "while predicted_new == 8 and C > 0:\n",
    "    C -= 1\n",
    "    top_indices = np.argsort(-flat_shap_values)[:C]\n",
    "    new_image_flat = X_cp_flat.copy()\n",
    "    new_image_flat[:, top_indices] = q_max[top_indices]\n",
    "    new_image = new_image_flat.reshape(1, 784)\n",
    "    predicted_new = cnn.predict(new_image).argmax()\n",
    "\n",
    "print(f\"Final C: {C}, Predicted Class: {predicted_new}\")"
   ],
   "metadata": {
    "collapsed": false,
    "ExecuteTime": {
     "end_time": "2024-07-01T11:36:10.117472Z",
     "start_time": "2024-07-01T11:36:10.104516Z"
    }
   },
   "id": "a3b377e15dde4f24",
   "execution_count": 41
  },
  {
   "cell_type": "markdown",
   "source": [
    "## Optain Counter Factual Image"
   ],
   "metadata": {
    "collapsed": false
   },
   "id": "64d2201f7250b23e"
  },
  {
   "cell_type": "code",
   "outputs": [],
   "source": [],
   "metadata": {
    "collapsed": false
   },
   "id": "1e996ab50862015b"
  },
  {
   "cell_type": "markdown",
   "source": [],
   "metadata": {
    "collapsed": false
   },
   "id": "75319283dd13b791"
  }
 ],
 "metadata": {
  "kernelspec": {
   "display_name": "Python 3",
   "language": "python",
   "name": "python3"
  },
  "language_info": {
   "codemirror_mode": {
    "name": "ipython",
    "version": 2
   },
   "file_extension": ".py",
   "mimetype": "text/x-python",
   "name": "python",
   "nbconvert_exporter": "python",
   "pygments_lexer": "ipython2",
   "version": "2.7.6"
  }
 },
 "nbformat": 4,
 "nbformat_minor": 5
}
