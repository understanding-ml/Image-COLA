{
 "cells": [
  {
   "cell_type": "code",
   "execution_count": 1,
   "id": "initial_id",
   "metadata": {
    "ExecuteTime": {
     "end_time": "2024-07-09T09:19:45.654654Z",
     "start_time": "2024-07-09T09:19:38.605718Z"
    },
    "collapsed": true
   },
   "outputs": [],
   "source": [
    "import pandas as pd\n",
    "import tensorflow as tf\n",
    "tf.get_logger().setLevel(40)  # suppress deprecation messages\n",
    "tf.compat.v1.disable_v2_behavior()  # disable TF2 behaviour as alibi code still relies on TF1 constructs\n",
    "import tensorflow.keras as keras\n",
    "from tensorflow.keras import backend as K\n",
    "from tensorflow.keras.layers import Conv2D, Dense, Dropout, Flatten, MaxPooling2D, Input, UpSampling2D, Reshape\n",
    "from tensorflow.keras.models import Model, load_model\n",
    "from tensorflow.keras.utils import to_categorical\n",
    "\n",
    "import matplotlib.pyplot as plt\n",
    "import numpy as np\n",
    "from skimage import io\n",
    "import os\n",
    "from alibi.explainers import CEM"
   ]
  },
  {
   "cell_type": "code",
   "execution_count": 2,
   "id": "72105ea6453be989",
   "metadata": {
    "ExecuteTime": {
     "end_time": "2024-07-09T09:19:46.523296Z",
     "start_time": "2024-07-09T09:19:46.507346Z"
    },
    "collapsed": false
   },
   "outputs": [
    {
     "name": "stdout",
     "output_type": "stream",
     "text": [
      "TF version:  2.12.0\n",
      "Eager execution enabled:  False\n"
     ]
    }
   ],
   "source": [
    "print('TF version: ', tf.__version__)\n",
    "print('Eager execution enabled: ', tf.executing_eagerly())  # False"
   ]
  },
  {
   "cell_type": "code",
   "execution_count": 3,
   "id": "536bfc29699a1cf6",
   "metadata": {
    "ExecuteTime": {
     "end_time": "2024-07-09T09:19:50.437354Z",
     "start_time": "2024-07-09T09:19:50.191088Z"
    },
    "collapsed": false
   },
   "outputs": [
    {
     "name": "stdout",
     "output_type": "stream",
     "text": [
      "x_train shape: (60000, 28, 28) y_train shape: (60000,)\n",
      "(10000, 28, 28)\n"
     ]
    },
    {
     "data": {
      "image/png": "[encoded data removed]",
      "text/plain": [
       "<Figure size 640x480 with 1 Axes>"
      ]
     },
     "metadata": {},
     "output_type": "display_data"
    }
   ],
   "source": [
    "# Load MNIST dataset\n",
    "(x_train, y_train), (x_test, y_test) = keras.datasets.mnist.load_data()\n",
    "print('x_train shape:', x_train.shape, 'y_train shape:', y_train.shape)\n",
    "print(x_test.shape)\n",
    "plt.gray()\n",
    "plt.imshow(x_test[4])\n",
    "plt.show()"
   ]
  },
  {
   "cell_type": "code",
   "execution_count": 4,
   "id": "99d295f2bad06d76",
   "metadata": {
    "ExecuteTime": {
     "end_time": "2024-07-09T09:19:54.228327Z",
     "start_time": "2024-07-09T09:19:53.930645Z"
    },
    "collapsed": false
   },
   "outputs": [
    {
     "name": "stdout",
     "output_type": "stream",
     "text": [
      "x_train shape: (60000, 784) x_test shape: (10000, 784)\n",
      "y_train shape: (60000, 10) y_test shape: (10000, 10)\n"
     ]
    }
   ],
   "source": [
    "# Normalize and reshape the data\n",
    "x_train = x_train.astype('float32') / 255\n",
    "x_test = x_test.astype('float32') / 255\n",
    "x_train = x_train.reshape(60000,784,)\n",
    "x_test = x_test.reshape(10000,784,)\n",
    "print('x_train shape:', x_train.shape, 'x_test shape:', x_test.shape)\n",
    "y_train = to_categorical(y_train)\n",
    "y_test = to_categorical(y_test)\n",
    "print('y_train shape:', y_train.shape, 'y_test shape:', y_test.shape)\n",
    "\n",
    "xmin, xmax = -.5, .5\n",
    "x_train = ((x_train - x_train.min()) / (x_train.max() - x_train.min())) * (xmax - xmin) + xmin\n",
    "x_test = ((x_test - x_test.min()) / (x_test.max() - x_test.min())) * (xmax - xmin) + xmin"
   ]
  },
  {
   "cell_type": "code",
   "execution_count": 2,
   "id": "57bdfceaf368dae1",
   "metadata": {
    "collapsed": false,
    "ExecuteTime": {
     "end_time": "2024-09-16T21:27:17.630576Z",
     "start_time": "2024-09-16T21:27:17.602217Z"
    }
   },
   "outputs": [
    {
     "ename": "NameError",
     "evalue": "name 'X_flat' is not defined",
     "output_type": "error",
     "traceback": [
      "\u001B[1;31m---------------------------------------------------------------------------\u001B[0m",
      "\u001B[1;31mNameError\u001B[0m                                 Traceback (most recent call last)",
      "Cell \u001B[1;32mIn[2], line 26\u001B[0m\n\u001B[0;32m     24\u001B[0m \u001B[38;5;66;03m# 逐步替换 1 到 33 个像素并进行预测\u001B[39;00m\n\u001B[0;32m     25\u001B[0m \u001B[38;5;28;01mfor\u001B[39;00m n \u001B[38;5;129;01min\u001B[39;00m \u001B[38;5;28mrange\u001B[39m(\u001B[38;5;241m1\u001B[39m, num_pixels_to_replace \u001B[38;5;241m+\u001B[39m \u001B[38;5;241m1\u001B[39m):\n\u001B[1;32m---> 26\u001B[0m     predicted_class \u001B[38;5;241m=\u001B[39m predict_after_replacement(\u001B[43mX_flat\u001B[49m, r_flat, sorted_indices, n)\n\u001B[0;32m     27\u001B[0m     prediction_results\u001B[38;5;241m.\u001B[39mappend(predicted_class)\n\u001B[0;32m     29\u001B[0m \u001B[38;5;66;03m# 输出每次替换后的预测结果\u001B[39;00m\n",
      "\u001B[1;31mNameError\u001B[0m: name 'X_flat' is not defined"
     ]
    }
   ],
   "source": [
    "# Define CNN model\n",
    "def cnn_model():\n",
    "    # Input layer for flattened image\n",
    "    x_in = Input(shape=(784,))\n",
    "    # Reshape layer to convert input to 28x28x1 image\n",
    "    x = Reshape((28, 28, 1))(x_in)\n",
    "    \n",
    "    # Convolutional layers\n",
    "    x = Conv2D(filters=64, kernel_size=2, padding='same', activation='relu')(x)\n",
    "    x = MaxPooling2D(pool_size=2)(x)  # Pooling layer\n",
    "    x = Dropout(0.3)(x)  # Dropout layer\n",
    "\n",
    "    x = Conv2D(filters=32, kernel_size=2, padding='same', activation='relu')(x)\n",
    "    x = MaxPooling2D(pool_size=2)(x)\n",
    "    x = Dropout(0.3)(x)\n",
    "\n",
    "    x = Conv2D(filters=32, kernel_size=2, padding='same', activation='relu')(x)\n",
    "    x = MaxPooling2D(pool_size=2)(x)\n",
    "    x = Dropout(0.3)(x)\n",
    "\n",
    "    # Fully connected layers\n",
    "    x = Flatten()(x)\n",
    "    x = Dense(256, activation='relu')(x)\n",
    "    x = Dropout(0.5)(x)\n",
    "    x_out = Dense(10, activation='softmax')(x)\n",
    "\n",
    "    # Create model\n",
    "    cnn = Model(inputs=x_in, outputs=x_out)\n",
    "    cnn.compile(loss='categorical_crossentropy', optimizer='adam', metrics=['accuracy'])\n",
    "\n",
    "    return cnn"
   ]
  },
  {
   "cell_type": "code",
   "execution_count": 6,
   "id": "e41157b9b36bf3b6",
   "metadata": {
    "ExecuteTime": {
     "end_time": "2024-07-09T09:21:40.752138Z",
     "start_time": "2024-07-09T09:20:01.876302Z"
    },
    "collapsed": false
   },
   "outputs": [
    {
     "name": "stdout",
     "output_type": "stream",
     "text": [
      "Model: \"model\"\n",
      "_________________________________________________________________\n",
      " Layer (type)                Output Shape              Param #   \n",
      "=================================================================\n",
      " input_1 (InputLayer)        [(None, 784)]             0         \n",
      "                                                                 \n",
      " reshape (Reshape)           (None, 28, 28, 1)         0         \n",
      "                                                                 \n",
      " conv2d (Conv2D)             (None, 28, 28, 64)        320       \n",
      "                                                                 \n",
      " max_pooling2d (MaxPooling2D  (None, 14, 14, 64)       0         \n",
      " )                                                               \n",
      "                                                                 \n",
      " dropout (Dropout)           (None, 14, 14, 64)        0         \n",
      "                                                                 \n",
      " conv2d_1 (Conv2D)           (None, 14, 14, 32)        8224      \n",
      "                                                                 \n",
      " max_pooling2d_1 (MaxPooling  (None, 7, 7, 32)         0         \n",
      " 2D)                                                             \n",
      "                                                                 \n",
      " dropout_1 (Dropout)         (None, 7, 7, 32)          0         \n",
      "                                                                 \n",
      " conv2d_2 (Conv2D)           (None, 7, 7, 32)          4128      \n",
      "                                                                 \n",
      " max_pooling2d_2 (MaxPooling  (None, 3, 3, 32)         0         \n",
      " 2D)                                                             \n",
      "                                                                 \n",
      " dropout_2 (Dropout)         (None, 3, 3, 32)          0         \n",
      "                                                                 \n",
      " flatten (Flatten)           (None, 288)               0         \n",
      "                                                                 \n",
      " dense (Dense)               (None, 256)               73984     \n",
      "                                                                 \n",
      " dropout_3 (Dropout)         (None, 256)               0         \n",
      "                                                                 \n",
      " dense_1 (Dense)             (None, 10)                2570      \n",
      "                                                                 \n",
      "=================================================================\n",
      "Total params: 89,226\n",
      "Trainable params: 89,226\n",
      "Non-trainable params: 0\n",
      "_________________________________________________________________\n",
      "Train on 60000 samples\n",
      "Epoch 1/5\n",
      "60000/60000 [==============================] - 20s 327us/sample - loss: 0.5411 - acc: 0.8191\n",
      "Epoch 2/5\n",
      "60000/60000 [==============================] - 19s 323us/sample - loss: 0.1938 - acc: 0.9388\n",
      "Epoch 3/5\n",
      "60000/60000 [==============================] - 19s 321us/sample - loss: 0.1499 - acc: 0.9530\n",
      "Epoch 4/5\n",
      "60000/60000 [==============================] - 19s 321us/sample - loss: 0.1277 - acc: 0.9597\n",
      "Epoch 5/5\n",
      "60000/60000 [==============================] - 19s 322us/sample - loss: 0.1153 - acc: 0.9638\n"
     ]
    },
    {
     "name": "stderr",
     "output_type": "stream",
     "text": [
      "D:\\Anaconda\\envs\\course02502\\lib\\site-packages\\keras\\engine\\training_v1.py:2335: UserWarning: `Model.state_updates` will be removed in a future version. This property should not be used in TensorFlow 2.0, as `updates` are applied automatically.\n",
      "  updates = self.state_updates\n"
     ]
    },
    {
     "name": "stdout",
     "output_type": "stream",
     "text": [
      "Test accuracy:  0.9874\n"
     ]
    }
   ],
   "source": [
    "\n",
    "# Create and train CNN model\n",
    "cnn = cnn_model()\n",
    "cnn.summary()\n",
    "cnn.fit(x_train, y_train, batch_size=64, epochs=5, verbose=1)\n",
    "# Save the trained model\n",
    "cnn.save('mnist_cnn.h5', save_format='h5')\n",
    "# Evaluate the model performance on test dataset\n",
    "cnn = load_model('mnist_cnn.h5')\n",
    "score = cnn.evaluate(x_test, y_test, verbose=0)\n",
    "print('Test accuracy: ', score[1])"
   ]
  },
  {
   "cell_type": "code",
   "execution_count": 7,
   "id": "50a67c161b958e1c",
   "metadata": {
    "ExecuteTime": {
     "end_time": "2024-07-09T09:23:47.958120Z",
     "start_time": "2024-07-09T09:22:08.842572Z"
    },
    "collapsed": false
   },
   "outputs": [
    {
     "name": "stdout",
     "output_type": "stream",
     "text": [
      "Model: \"model_1\"\n",
      "_________________________________________________________________\n",
      " Layer (type)                Output Shape              Param #   \n",
      "=================================================================\n",
      " input_2 (InputLayer)        [(None, 784)]             0         \n",
      "                                                                 \n",
      " reshape_1 (Reshape)         (None, 28, 28, 1)         0         \n",
      "                                                                 \n",
      " conv2d_3 (Conv2D)           (None, 28, 28, 16)        160       \n",
      "                                                                 \n",
      " conv2d_4 (Conv2D)           (None, 28, 28, 16)        2320      \n",
      "                                                                 \n",
      " max_pooling2d_3 (MaxPooling  (None, 14, 14, 16)       0         \n",
      " 2D)                                                             \n",
      "                                                                 \n",
      " conv2d_5 (Conv2D)           (None, 14, 14, 1)         145       \n",
      "                                                                 \n",
      " conv2d_6 (Conv2D)           (None, 14, 14, 16)        160       \n",
      "                                                                 \n",
      " up_sampling2d (UpSampling2D  (None, 28, 28, 16)       0         \n",
      " )                                                               \n",
      "                                                                 \n",
      " conv2d_7 (Conv2D)           (None, 28, 28, 16)        2320      \n",
      "                                                                 \n",
      " conv2d_8 (Conv2D)           (None, 28, 28, 1)         145       \n",
      "                                                                 \n",
      " flatten_1 (Flatten)         (None, 784)               0         \n",
      "                                                                 \n",
      "=================================================================\n",
      "Total params: 5,250\n",
      "Trainable params: 5,250\n",
      "Non-trainable params: 0\n",
      "_________________________________________________________________\n"
     ]
    }
   ],
   "source": [
    "def ae_model():\n",
    "    # Input accepts a flat vector of size 784\n",
    "    x_in = Input(shape=(784,))\n",
    "    # Reshape flat vector to (28, 28, 1) for convolutional layers\n",
    "    x = Reshape((28, 28, 1))(x_in)\n",
    "    \n",
    "    # Encoder\n",
    "    x = Conv2D(16, (3, 3), activation='relu', padding='same')(x)\n",
    "    x = Conv2D(16, (3, 3), activation='relu', padding='same')(x)\n",
    "    x = MaxPooling2D((2, 2), padding='same')(x)\n",
    "    encoded = Conv2D(1, (3, 3), activation=None, padding='same')(x)  # Activated relu for stability\n",
    "    \n",
    "    # Decoder\n",
    "    x = Conv2D(16, (3, 3), activation='relu', padding='same')(encoded)\n",
    "    x = UpSampling2D((2, 2))(x)\n",
    "    x = Conv2D(16, (3, 3), activation='relu', padding='same')(x)\n",
    "    x = Conv2D(1, (3, 3), activation=None, padding='same')(x)  # Using sigmoid for final layer if images are normalized [0,1]\n",
    "    x = Flatten()(x)  # Flatten the output to match the input shape\n",
    "    \n",
    "    # Create the autoencoder model\n",
    "    autoencoder = Model(inputs=x_in, outputs=x)\n",
    "    autoencoder.compile(optimizer='adam', loss='mse')\n",
    "\n",
    "    return autoencoder\n",
    "\n",
    "x_train_flat = x_train.reshape(-1, 784)  \n",
    "x_test_flat = x_test.reshape(-1, 784)   \n",
    "\n",
    "ae = ae_model()\n",
    "ae.summary()\n",
    "\n",
    "# Train the model\n",
    "ae.fit(x_train, x_train, batch_size=128, epochs=4, validation_data=(x_test, x_test), verbose=0)\n",
    "\n",
    "# Save the trained model\n",
    "ae.save('mnist_ae.h5', save_format='h5')"
   ]
  },
  {
   "cell_type": "code",
   "execution_count": 8,
   "id": "3f4cbeb57b201e19",
   "metadata": {
    "ExecuteTime": {
     "end_time": "2024-07-09T09:24:44.487282Z",
     "start_time": "2024-07-09T09:24:41.477050Z"
    },
    "collapsed": false
   },
   "outputs": [
    {
     "name": "stderr",
     "output_type": "stream",
     "text": [
      "D:\\Anaconda\\envs\\course02502\\lib\\site-packages\\keras\\engine\\training_v1.py:2359: UserWarning: `Model.state_updates` will be removed in a future version. This property should not be used in TensorFlow 2.0, as `updates` are applied automatically.\n",
      "  updates=self.state_updates,\n"
     ]
    },
    {
     "data": {
      "image/png": "[encoded data removed]",
      "text/plain": [
       "<Figure size 2000x400 with 10 Axes>"
      ]
     },
     "metadata": {},
     "output_type": "display_data"
    },
    {
     "data": {
      "image/png": "[encoded data removed]",
      "text/plain": [
       "<Figure size 640x480 with 1 Axes>"
      ]
     },
     "metadata": {},
     "output_type": "display_data"
    }
   ],
   "source": [
    "ae = load_model('mnist_ae.h5')\n",
    "\n",
    "decoded_imgs = ae.predict(x_test)\n",
    "n = 5\n",
    "plt.figure(figsize=(20, 4))\n",
    "for i in range(1, n+1):\n",
    "    # display original\n",
    "    ax = plt.subplot(2, n, i)\n",
    "    plt.imshow(x_test[i].reshape(28, 28))\n",
    "    ax.get_xaxis().set_visible(False)\n",
    "    ax.get_yaxis().set_visible(False)\n",
    "    # display reconstruction\n",
    "    ax = plt.subplot(2, n, i + n)\n",
    "    plt.imshow(decoded_imgs[i].reshape(28, 28))\n",
    "    ax.get_xaxis().set_visible(False)\n",
    "    ax.get_yaxis().set_visible(False)\n",
    "plt.show()\n",
    "\n",
    "idx = 15\n",
    "X = x_test_flat[idx].reshape(1, 784)\n",
    "\n",
    "plt.imshow(X.reshape(28, 28));"
   ]
  },
  {
   "cell_type": "code",
   "execution_count": 9,
   "id": "83621b927c135f52",
   "metadata": {
    "ExecuteTime": {
     "end_time": "2024-07-09T09:24:51.814830Z",
     "start_time": "2024-07-09T09:24:51.765991Z"
    },
    "collapsed": false
   },
   "outputs": [
    {
     "data": {
      "text/plain": [
       "(5, 0.99713695)"
      ]
     },
     "execution_count": 9,
     "metadata": {},
     "output_type": "execute_result"
    }
   ],
   "source": [
    "cnn.predict(X).argmax(), cnn.predict(X).max()"
   ]
  },
  {
   "cell_type": "code",
   "execution_count": 119,
   "id": "cb736d5f0da7691d",
   "metadata": {
    "ExecuteTime": {
     "end_time": "2024-07-09T12:23:09.029964Z",
     "start_time": "2024-07-09T12:23:08.974834Z"
    },
    "collapsed": false
   },
   "outputs": [],
   "source": [
    "mode = 'PN'  # 'PN' (pertinent negative) or 'PP' (pertinent positive)\n",
    "shape = (1,) + x_train.shape[1:]  # instance shape\n",
    "kappa = 0.  # minimum difference needed between the prediction probability for the perturbed instance on the\n",
    "            # class predicted by the original instance and the max probability on the other classes\n",
    "            # in order for the first loss term to be minimized\n",
    "beta = .1  # weight of the L1 loss term\n",
    "gamma = 100  # weight of the optional auto-encoder loss term\n",
    "c_init = 1.  # initial weight c of the loss term encouraging to predict a different class (PN) or\n",
    "              # the same class (PP) for the perturbed instance compared to the original instance to be explained\n",
    "c_steps = 10  # nb of updates for c\n",
    "max_iterations = 1000  # nb of iterations per value of c\n",
    "feature_range = (x_train.min(),x_train.max())  # feature range for the perturbed instance\n",
    "clip = (-1000.,1000.)  # gradient clipping\n",
    "lr = 1e-2  # initial learning rate\n",
    "no_info_val = -1. # a value, float or feature-wise, which can be seen as containing no info to make a prediction\n",
    "                  # perturbations towards this value means removing features, and away means adding features\n",
    "                  # for our MNIST images, the background (-0.5) is the least informative,\n",
    "                  # so positive/negative perturbations imply adding/removing features"
   ]
  },
  {
   "cell_type": "code",
   "execution_count": null,
   "id": "c9679b60",
   "metadata": {},
   "outputs": [],
   "source": [
    "desired_prediction = 5\n",
    "count = 0\n",
    "max_tries = 1000\n",
    "all_results = []  \n",
    "\n",
    "cem = CEM(cnn, mode, shape, kappa=kappa, beta=beta, feature_range=feature_range,\n",
    "          gamma=gamma, ae_model=ae, max_iterations=max_iterations,\n",
    "          c_init=c_init, c_steps=c_steps, learning_rate_init=lr, clip=clip, no_info_val=no_info_val)\n",
    "\n",
    "for i in range(max_tries):\n",
    "    explanation = cem.explain(X)\n",
    "    print(f'Trial {i + 1}/{max_tries}: Prediction - {explanation.PN_pred}')  # 显示每次尝试的结果\n",
    "    if explanation.PN_pred == desired_prediction:\n",
    "        all_results.append(explanation.PN)\n",
    "        count += 1\n",
    "        print(f'Found {count}: Pertinent negative prediction matches 5.')\n",
    "        plt.imshow(explanation.PN.reshape(28, 28))\n",
    "        plt.show()\n",
    "    if count == 100:\n",
    "        print(\"Collected 100 matching PNs.\")\n",
    "        break\n",
    "\n",
    "# Optionally, handle if no results found after max_tries\n",
    "if not all_results:\n",
    "    print(\"No pertinent negatives with prediction 5 found after maximum tries.\")\n",
    "elif len(all_results) < 100:\n",
    "    print(f\"Only found {len(all_results)} results matching prediction 5 after {max_tries} trials.\")\n",
    "\n",
    "# The array `all_results` now contains up to 100 PN instances that you can access later."
   ]
  },
  {
   "cell_type": "code",
   "execution_count": 120,
   "id": "cc5b090b2ddf93e",
   "metadata": {
    "ExecuteTime": {
     "end_time": "2024-07-09T12:23:39.799791Z",
     "start_time": "2024-07-09T12:23:12.204121Z"
    },
    "collapsed": false
   },
   "outputs": [
    {
     "name": "stdout",
     "output_type": "stream",
     "text": [
      "Pertinent negative prediction: 3\n"
     ]
    },
    {
     "data": {
      "image/png": "[encoded data removed]",
      "text/plain": [
       "<Figure size 640x480 with 1 Axes>"
      ]
     },
     "metadata": {},
     "output_type": "display_data"
    }
   ],
   "source": [
    "cem = CEM(cnn, mode, shape, kappa=kappa, beta=beta, feature_range=feature_range,\n",
    "          gamma=gamma, ae_model=ae, max_iterations=max_iterations,\n",
    "          c_init=c_init, c_steps=c_steps, learning_rate_init=lr, clip=clip, no_info_val=no_info_val)\n",
    "\n",
    "explanation = cem.explain(X)\n",
    "\n",
    "print(f'Pertinent negative prediction: {explanation.PN_pred}')\n",
    "plt.imshow(explanation.PN.reshape(28, 28));"
   ]
  },
  {
   "cell_type": "code",
   "execution_count": 125,
   "id": "2ac31d52eb2ddc79",
   "metadata": {
    "ExecuteTime": {
     "end_time": "2024-06-20T17:25:42.205666Z",
     "start_time": "2024-06-20T17:25:09.429143Z"
    },
    "collapsed": false
   },
   "outputs": [
    {
     "name": "stdout",
     "output_type": "stream",
     "text": [
      "Pertinent positive prediction: 5\n"
     ]
    },
    {
     "data": {
      "image/png": "[encoded data removed]",
      "text/plain": [
       "<Figure size 640x480 with 1 Axes>"
      ]
     },
     "metadata": {},
     "output_type": "display_data"
    }
   ],
   "source": [
    "mode = 'PP'\n",
    "# initialize CEM explainer and explain instance\n",
    "cem = CEM(cnn, mode, shape, kappa=kappa, beta=beta, feature_range=feature_range,\n",
    "          gamma=gamma, ae_model=ae, max_iterations=max_iterations,\n",
    "          c_init=c_init, c_steps=c_steps, learning_rate_init=lr, clip=clip, no_info_val=no_info_val)\n",
    "\n",
    "explanation = cem.explain(X)\n",
    "\n",
    "print(f'Pertinent positive prediction: {explanation.PP_pred}')\n",
    "plt.imshow(explanation.PP.reshape(28, 28));"
   ]
  },
  {
   "cell_type": "code",
   "execution_count": 146,
   "id": "6d53d03932914790",
   "metadata": {
    "ExecuteTime": {
     "end_time": "2024-06-20T17:38:18.621002Z",
     "start_time": "2024-06-20T17:38:18.615026Z"
    },
    "collapsed": false
   },
   "outputs": [],
   "source": [
    "# os.remove('mnist_cnn.h5')\n",
    "# os.remove('mnist_ae.h5')"
   ]
  },
  {
   "cell_type": "markdown",
   "id": "df77be8c83e516be",
   "metadata": {
    "collapsed": false
   },
   "source": [
    "## Counter Factual Image R"
   ]
  },
  {
   "cell_type": "code",
   "execution_count": 121,
   "id": "443e1418c81aae77",
   "metadata": {
    "ExecuteTime": {
     "end_time": "2024-07-09T12:23:48.332215Z",
     "start_time": "2024-07-09T12:23:48.035221Z"
    },
    "collapsed": false
   },
   "outputs": [
    {
     "name": "stdout",
     "output_type": "stream",
     "text": [
      "126\n"
     ]
    },
    {
     "data": {
      "image/png": "[encoded data removed]",
      "text/plain": [
       "<Figure size 640x480 with 1 Axes>"
      ]
     },
     "metadata": {},
     "output_type": "display_data"
    },
    {
     "data": {
      "image/png": "[encoded data removed]",
      "text/plain": [
       "<Figure size 640x480 with 1 Axes>"
      ]
     },
     "metadata": {},
     "output_type": "display_data"
    }
   ],
   "source": [
    "R = explanation.PN.reshape(28,28).copy()\n",
    "c_ik = np.where(X.reshape(28,28) != explanation.PN.reshape(28,28), 1, 0)\n",
    "changed_pixel = np.sum(c_ik)\n",
    "print(changed_pixel)\n",
    "plt.imshow(c_ik.reshape(28,28),cmap='gray')\n",
    "plt.title('c_ik Matrix')\n",
    "plt.show()\n",
    "plt.imshow(R)\n",
    "plt.title('PN')\n",
    "plt.show()"
   ]
  },
  {
   "cell_type": "code",
   "execution_count": 122,
   "id": "1bea886192e4b539",
   "metadata": {
    "ExecuteTime": {
     "end_time": "2024-07-09T12:23:52.738835Z",
     "start_time": "2024-07-09T12:23:52.503565Z"
    },
    "collapsed": false
   },
   "outputs": [
    {
     "data": {
      "image/png": "[encoded data removed]",
      "text/plain": [
       "<Figure size 640x480 with 1 Axes>"
      ]
     },
     "metadata": {},
     "output_type": "display_data"
    }
   ],
   "source": [
    "PN_optimized1 = R.copy()\n",
    "c_ik_cp = c_ik.copy()\n",
    "target_label = explanation.PN_pred.copy()  # Assuming this is correctly obtained from somewhere\n",
    "X_reshaped = X.reshape(28,28)  # Assuming X was initially (784,)\n",
    "\n",
    "for i in range(28):\n",
    "    for j in range(28):\n",
    "        # Only try to restore pixel where c_ik is 1\n",
    "        if c_ik_cp[i, j] == 1:\n",
    "            PN_temp = PN_optimized1.copy()\n",
    "            PN_temp[i, j] = X_reshaped[i, j]\n",
    "            # Ensure correct reshaping for model prediction\n",
    "            prediction_temp = cnn.predict(PN_temp.reshape(1, 784))\n",
    "            # Check if the predicted class matches the target label\n",
    "            if prediction_temp.argmax() == target_label:\n",
    "                PN_optimized1[i, j] = X_reshaped[i, j]\n",
    "                c_ik_cp[i, j] = 0  # Mark this pixel as no longer changeable\n",
    "\n",
    "plt.imshow(PN_optimized1.reshape(28, 28), cmap='gray')\n",
    "plt.title('Optimized Pertinent Negative Image')\n",
    "plt.show()"
   ]
  },
  {
   "cell_type": "code",
   "execution_count": 123,
   "id": "8894734ab28191e",
   "metadata": {
    "ExecuteTime": {
     "end_time": "2024-07-09T12:23:58.477115Z",
     "start_time": "2024-07-09T12:23:58.460803Z"
    },
    "collapsed": false
   },
   "outputs": [
    {
     "data": {
      "text/plain": [
       "3"
      ]
     },
     "execution_count": 123,
     "metadata": {},
     "output_type": "execute_result"
    }
   ],
   "source": [
    "target_label"
   ]
  },
  {
   "cell_type": "code",
   "execution_count": 124,
   "id": "ae039f5b1900ff0c",
   "metadata": {
    "ExecuteTime": {
     "end_time": "2024-07-09T12:24:01.091834Z",
     "start_time": "2024-07-09T12:24:00.974111Z"
    },
    "collapsed": false
   },
   "outputs": [
    {
     "name": "stdout",
     "output_type": "stream",
     "text": [
      "11\n"
     ]
    },
    {
     "data": {
      "image/png": "[encoded data removed]",
      "text/plain": [
       "<Figure size 640x480 with 1 Axes>"
      ]
     },
     "metadata": {},
     "output_type": "display_data"
    },
    {
     "name": "stdout",
     "output_type": "stream",
     "text": [
      "3\n"
     ]
    }
   ],
   "source": [
    "c_ik_cp = np.where(X.reshape(28,28) != PN_optimized1.reshape(28,28), 1, 0)\n",
    "changed_pixel_opti = np.sum(c_ik_cp)\n",
    "print(changed_pixel_opti)\n",
    "plt.imshow(c_ik_cp.reshape(28,28),cmap='gray')\n",
    "plt.title('c_ik_new Matrix')\n",
    "plt.show()\n",
    "print(cnn.predict(PN_optimized1.reshape(1,784)).argmax())"
   ]
  },
  {
   "cell_type": "markdown",
   "id": "b010bf9a29c3e26a",
   "metadata": {
    "collapsed": false
   },
   "source": [
    "## Compute Matching"
   ]
  },
  {
   "cell_type": "code",
   "execution_count": 125,
   "id": "e664cfcba27ec8b0",
   "metadata": {
    "ExecuteTime": {
     "end_time": "2024-07-09T12:24:17.716175Z",
     "start_time": "2024-07-09T12:24:15.745441Z"
    },
    "collapsed": false
   },
   "outputs": [
    {
     "name": "stdout",
     "output_type": "stream",
     "text": [
      "Joint Distribution matrix p:\n",
      " [[1.93212691e-06 1.93212691e-06 1.93212691e-06 ... 1.93212691e-06\n",
      "  1.93212691e-06 1.93212691e-06]\n",
      " [1.93212691e-06 1.93212691e-06 1.93212691e-06 ... 1.93212691e-06\n",
      "  1.93212691e-06 1.93212691e-06]\n",
      " [1.93212691e-06 1.93212691e-06 1.93212691e-06 ... 1.93212691e-06\n",
      "  1.93212691e-06 1.93212691e-06]\n",
      " ...\n",
      " [1.93212691e-06 1.93212691e-06 1.93212691e-06 ... 1.93212691e-06\n",
      "  1.93212691e-06 1.93212691e-06]\n",
      " [1.93212691e-06 1.93212691e-06 1.93212691e-06 ... 1.93212691e-06\n",
      "  1.93212691e-06 1.93212691e-06]\n",
      " [1.93212691e-06 1.93212691e-06 1.93212691e-06 ... 1.93212691e-06\n",
      "  1.93212691e-06 1.93212691e-06]]\n",
      "(784, 784)\n"
     ]
    }
   ],
   "source": [
    "import ot\n",
    "X_cp = X.copy()\n",
    "R_cp = R.copy()\n",
    "c_ik_cp = c_ik.copy()\n",
    "target_label = explanation.PN_pred.copy()\n",
    "\n",
    "def compute_ot_distance_matrix(x, r):\n",
    "    n = x.shape[0]\n",
    "    m = r.shape[0]\n",
    "    distance_matrix = np.zeros((n, m))\n",
    "    for i in range(n):\n",
    "        for j in range(m):\n",
    "            distance_matrix[i, j] = np.linalg.norm(x[i] - r[j])\n",
    "    return distance_matrix\n",
    "\n",
    "def compute_joint_distribution(x, r, reg=0.1):\n",
    "    distance_matrix = compute_ot_distance_matrix(x, r)\n",
    "    p = ot.sinkhorn(np.ones(x.shape[0]) / x.shape[0], np.ones(r.shape[0]) / r.shape[0], distance_matrix, reg)\n",
    "    return p\n",
    "\n",
    "x = X_cp.reshape(-1,1)\n",
    "r = R_cp.reshape(-1,1)\n",
    "p = compute_joint_distribution(x,r)\n",
    "p = p / np.sum(p)\n",
    "print(\"Joint Distribution matrix p:\\n\",p)\n",
    "print(p.shape)"
   ]
  },
  {
   "cell_type": "code",
   "execution_count": 126,
   "id": "6611ceb0b18c36e5",
   "metadata": {
    "ExecuteTime": {
     "end_time": "2024-07-09T12:24:21.036741Z",
     "start_time": "2024-07-09T12:24:20.799810Z"
    },
    "collapsed": false
   },
   "outputs": [
    {
     "data": {
      "image/png": "[encoded data removed]",
      "text/plain": [
       "<Figure size 290.611x250 with 2 Axes>"
      ]
     },
     "metadata": {},
     "output_type": "display_data"
    }
   ],
   "source": [
    "import pandas as pd\n",
    "import seaborn as sns\n",
    "X_cp_df = pd.DataFrame(X_cp.reshape(-1,1))\n",
    "R_cp_df = pd.DataFrame(R_cp.reshape(-1,1))\n",
    "\n",
    "X_cp_df['label'] = 'X_cp'\n",
    "R_cp_df['label'] = 'R_cp'\n",
    "\n",
    "combined_df = pd.concat([X_cp_df, R_cp_df],ignore_index=True)\n",
    "sns.pairplot(combined_df, hue='label', plot_kws={'alpha':0.5}, diag_kind='kde')\n",
    "plt.show()"
   ]
  },
  {
   "cell_type": "markdown",
   "id": "7ccb3e6e91325665",
   "metadata": {
    "collapsed": false
   },
   "source": [
    "## Using the difference matrix the reduce the pixel changed"
   ]
  },
  {
   "cell_type": "code",
   "execution_count": 127,
   "id": "3af44abc5416bca2",
   "metadata": {
    "ExecuteTime": {
     "end_time": "2024-07-09T12:24:24.871879Z",
     "start_time": "2024-07-09T12:24:24.321918Z"
    },
    "collapsed": false
   },
   "outputs": [
    {
     "data": {
      "image/png": "[encoded data removed]",
      "text/plain": [
       "<Figure size 1200x600 with 2 Axes>"
      ]
     },
     "metadata": {},
     "output_type": "display_data"
    }
   ],
   "source": [
    "fig, ax = plt.subplots(1, 2, figsize=(12, 6))\n",
    "ax[0].hist(X_cp.flatten(), bins=30, alpha=0.7, color='blue')\n",
    "ax[0].set_title('Histogram of X_cp')\n",
    "ax[1].hist(R_cp.flatten(), bins=30, alpha=0.7, color='red')\n",
    "ax[1].set_title('Histogram of R_cp')\n",
    "\n",
    "plt.tight_layout()\n",
    "plt.show()\n"
   ]
  },
  {
   "cell_type": "code",
   "execution_count": 128,
   "id": "98305f190994dbef",
   "metadata": {
    "ExecuteTime": {
     "end_time": "2024-07-09T12:24:27.846551Z",
     "start_time": "2024-07-09T12:24:27.674363Z"
    },
    "collapsed": false
   },
   "outputs": [
    {
     "data": {
      "image/png": "[encoded data removed]",
      "text/plain": [
       "<Figure size 640x480 with 2 Axes>"
      ]
     },
     "metadata": {},
     "output_type": "display_data"
    }
   ],
   "source": [
    "Diff = R_cp - X_cp.reshape(28,28)\n",
    "plt.imshow(Diff, cmap='bwr') \n",
    "plt.colorbar()\n",
    "plt.title('Difference between R_cp and X_cp')\n",
    "plt.show()"
   ]
  },
  {
   "cell_type": "code",
   "execution_count": 129,
   "id": "13b06785feaa373a",
   "metadata": {
    "ExecuteTime": {
     "end_time": "2024-07-09T12:24:31.159955Z",
     "start_time": "2024-07-09T12:24:31.050800Z"
    },
    "collapsed": false
   },
   "outputs": [
    {
     "data": {
      "image/png": "[encoded data removed]",
      "text/plain": [
       "<Figure size 640x480 with 1 Axes>"
      ]
     },
     "metadata": {},
     "output_type": "display_data"
    }
   ],
   "source": [
    "plt.hist(Diff.ravel())\n",
    "plt.show()"
   ]
  },
  {
   "cell_type": "code",
   "execution_count": 130,
   "id": "de9bdf428c720563",
   "metadata": {
    "ExecuteTime": {
     "end_time": "2024-07-09T12:24:34.097916Z",
     "start_time": "2024-07-09T12:24:33.794759Z"
    },
    "collapsed": false
   },
   "outputs": [
    {
     "data": {
      "image/png": "[encoded data removed]",
      "text/plain": [
       "<Figure size 1800x600 with 4 Axes>"
      ]
     },
     "metadata": {},
     "output_type": "display_data"
    }
   ],
   "source": [
    "Result = np.where(Diff < 0.37, X_cp.reshape(28,28), R_cp)\n",
    "\n",
    "fig, axes = plt.subplots(1, 3, figsize=(18, 6))\n",
    "\n",
    "axes[0].imshow(X_cp.reshape(28,28), cmap='gray')\n",
    "axes[0].set_title('X_cp')\n",
    "\n",
    "im = axes[1].imshow(Diff, cmap='bwr')\n",
    "fig.colorbar(im, ax=axes[1])\n",
    "axes[1].set_title('Difference (R_cp - X_cp)')\n",
    "\n",
    "axes[2].imshow(Result, cmap='gray')\n",
    "axes[2].set_title('Result')\n",
    "\n",
    "plt.show()"
   ]
  },
  {
   "cell_type": "code",
   "execution_count": 131,
   "id": "d8b4704c603ab8d",
   "metadata": {
    "ExecuteTime": {
     "end_time": "2024-07-09T12:24:41.484327Z",
     "start_time": "2024-07-09T12:24:41.468447Z"
    },
    "collapsed": false
   },
   "outputs": [
    {
     "data": {
      "text/plain": [
       "3"
      ]
     },
     "execution_count": 131,
     "metadata": {},
     "output_type": "execute_result"
    }
   ],
   "source": [
    "cnn.predict(Result.reshape(1,784)).argmax()"
   ]
  },
  {
   "cell_type": "code",
   "execution_count": 132,
   "id": "aafa4b6963d6c0de",
   "metadata": {
    "ExecuteTime": {
     "end_time": "2024-07-09T12:24:44.185667Z",
     "start_time": "2024-07-09T12:24:44.082213Z"
    },
    "collapsed": false
   },
   "outputs": [
    {
     "data": {
      "image/png": "[encoded data removed]",
      "text/plain": [
       "<Figure size 640x480 with 1 Axes>"
      ]
     },
     "metadata": {},
     "output_type": "display_data"
    },
    {
     "name": "stdout",
     "output_type": "stream",
     "text": [
      "42\n"
     ]
    }
   ],
   "source": [
    "c_ik_result = np.where(X.reshape(28,28) != Result.reshape(28,28), 1, 0)\n",
    "plt.imshow(c_ik_result)\n",
    "plt.show()\n",
    "print(np.sum(c_ik_result))"
   ]
  },
  {
   "cell_type": "code",
   "execution_count": 133,
   "id": "b8eae20ead497839",
   "metadata": {
    "ExecuteTime": {
     "end_time": "2024-07-09T12:24:50.545414Z",
     "start_time": "2024-07-09T12:24:48.750162Z"
    },
    "collapsed": false
   },
   "outputs": [
    {
     "name": "stdout",
     "output_type": "stream",
     "text": [
      "3\n",
      "3\n",
      "3\n",
      "3\n",
      "3\n",
      "3\n",
      "3\n",
      "3\n",
      "3\n",
      "3\n",
      "3\n",
      "3\n",
      "3\n",
      "3\n",
      "3\n",
      "3\n",
      "3\n",
      "3\n",
      "3\n",
      "3\n",
      "3\n",
      "3\n",
      "3\n",
      "3\n",
      "3\n",
      "3\n",
      "3\n",
      "3\n",
      "3\n",
      "3\n",
      "3\n",
      "3\n",
      "3\n",
      "3\n",
      "3\n",
      "3\n",
      "3\n",
      "3\n",
      "3\n",
      "3\n",
      "3\n",
      "3\n",
      "3\n",
      "3\n",
      "3\n",
      "3\n",
      "3\n",
      "3\n",
      "3\n",
      "3\n",
      "3\n",
      "3\n",
      "3\n",
      "3\n",
      "3\n",
      "3\n",
      "3\n",
      "3\n",
      "3\n",
      "3\n",
      "3\n",
      "3\n",
      "3\n",
      "3\n",
      "3\n",
      "3\n",
      "3\n",
      "3\n",
      "3\n",
      "3\n",
      "3\n",
      "3\n",
      "3\n",
      "3\n",
      "3\n",
      "3\n",
      "3\n",
      "3\n",
      "3\n",
      "3\n",
      "3\n",
      "3\n",
      "3\n",
      "3\n",
      "3\n",
      "3\n",
      "3\n",
      "3\n",
      "3\n",
      "3\n",
      "3\n",
      "3\n",
      "3\n",
      "3\n",
      "3\n",
      "3\n",
      "3\n",
      "3\n",
      "3\n",
      "3\n",
      "3\n",
      "3\n",
      "3\n",
      "3\n",
      "3\n",
      "3\n",
      "3\n",
      "3\n",
      "3\n",
      "3\n",
      "3\n",
      "3\n",
      "3\n",
      "3\n",
      "3\n",
      "3\n",
      "3\n",
      "3\n",
      "3\n",
      "3\n",
      "3\n",
      "3\n",
      "3\n",
      "3\n",
      "3\n",
      "3\n",
      "3\n",
      "3\n",
      "3\n",
      "3\n",
      "3\n",
      "3\n",
      "3\n",
      "3\n",
      "3\n",
      "3\n",
      "3\n",
      "3\n",
      "3\n",
      "3\n",
      "3\n",
      "3\n",
      "3\n",
      "3\n",
      "3\n",
      "3\n",
      "3\n",
      "3\n",
      "3\n",
      "3\n",
      "3\n",
      "3\n",
      "3\n",
      "3\n",
      "3\n",
      "3\n",
      "3\n",
      "3\n",
      "3\n",
      "3\n",
      "3\n",
      "3\n",
      "3\n",
      "3\n",
      "3\n",
      "3\n",
      "3\n",
      "3\n",
      "3\n",
      "3\n",
      "3\n",
      "3\n",
      "3\n",
      "3\n",
      "5\n",
      "5\n",
      "3\n",
      "3\n",
      "3\n",
      "3\n",
      "3\n",
      "3\n",
      "3\n",
      "5\n",
      "3\n",
      "3\n",
      "3\n",
      "3\n",
      "3\n",
      "3\n",
      "3\n",
      "3\n",
      "3\n",
      "3\n",
      "3\n",
      "3\n",
      "3\n",
      "3\n",
      "3\n",
      "3\n",
      "3\n",
      "3\n",
      "3\n",
      "3\n",
      "3\n",
      "3\n",
      "3\n",
      "5\n",
      "5\n",
      "3\n",
      "3\n",
      "5\n",
      "3\n",
      "3\n",
      "3\n",
      "3\n",
      "3\n",
      "3\n",
      "3\n",
      "3\n",
      "3\n",
      "3\n",
      "3\n",
      "3\n",
      "3\n",
      "3\n",
      "3\n",
      "3\n",
      "3\n",
      "3\n",
      "3\n",
      "5\n",
      "3\n",
      "3\n",
      "3\n",
      "3\n",
      "3\n",
      "3\n",
      "3\n",
      "3\n",
      "3\n",
      "3\n",
      "5\n",
      "3\n",
      "3\n",
      "3\n",
      "3\n",
      "3\n",
      "3\n",
      "3\n",
      "3\n",
      "3\n",
      "3\n",
      "3\n",
      "3\n",
      "3\n",
      "3\n",
      "3\n",
      "3\n",
      "3\n",
      "3\n",
      "3\n",
      "3\n",
      "3\n",
      "3\n",
      "3\n",
      "3\n",
      "5\n",
      "3\n",
      "3\n",
      "3\n",
      "3\n",
      "3\n",
      "3\n",
      "3\n",
      "3\n",
      "3\n",
      "3\n",
      "3\n",
      "3\n",
      "3\n",
      "3\n",
      "3\n",
      "3\n",
      "3\n",
      "3\n",
      "3\n",
      "3\n",
      "3\n",
      "3\n",
      "3\n",
      "3\n",
      "3\n",
      "3\n",
      "3\n",
      "3\n",
      "3\n",
      "3\n",
      "3\n",
      "3\n",
      "3\n",
      "3\n",
      "3\n",
      "3\n",
      "3\n",
      "3\n",
      "3\n",
      "3\n",
      "3\n",
      "3\n",
      "3\n",
      "3\n",
      "3\n",
      "3\n",
      "3\n",
      "3\n",
      "3\n",
      "3\n",
      "3\n",
      "3\n",
      "3\n",
      "3\n",
      "3\n",
      "3\n",
      "3\n",
      "3\n",
      "3\n",
      "5\n",
      "3\n",
      "3\n",
      "3\n",
      "3\n",
      "3\n",
      "3\n",
      "3\n",
      "3\n",
      "3\n",
      "3\n",
      "3\n",
      "3\n",
      "3\n",
      "3\n",
      "3\n",
      "3\n",
      "3\n",
      "3\n",
      "3\n",
      "3\n",
      "3\n",
      "3\n",
      "3\n",
      "3\n",
      "3\n",
      "3\n",
      "3\n",
      "3\n",
      "3\n",
      "3\n",
      "3\n",
      "3\n",
      "3\n",
      "3\n",
      "3\n",
      "3\n",
      "3\n",
      "3\n",
      "3\n",
      "3\n",
      "3\n",
      "3\n",
      "3\n",
      "3\n",
      "3\n",
      "3\n",
      "3\n",
      "3\n",
      "3\n",
      "3\n",
      "3\n",
      "3\n",
      "3\n",
      "3\n",
      "3\n",
      "3\n",
      "3\n",
      "3\n",
      "3\n",
      "3\n",
      "3\n",
      "3\n",
      "3\n",
      "3\n",
      "3\n",
      "3\n",
      "3\n",
      "3\n",
      "3\n",
      "3\n",
      "3\n",
      "3\n",
      "3\n",
      "3\n",
      "3\n",
      "3\n",
      "5\n",
      "3\n",
      "3\n",
      "3\n",
      "3\n",
      "3\n",
      "3\n",
      "3\n",
      "3\n",
      "3\n",
      "3\n",
      "3\n",
      "3\n",
      "3\n",
      "3\n",
      "3\n",
      "3\n",
      "3\n",
      "3\n",
      "3\n",
      "3\n",
      "3\n",
      "3\n",
      "3\n",
      "3\n",
      "3\n",
      "3\n",
      "3\n",
      "3\n",
      "3\n",
      "3\n",
      "3\n",
      "3\n",
      "3\n",
      "3\n",
      "3\n",
      "3\n",
      "3\n",
      "3\n",
      "3\n",
      "3\n",
      "3\n",
      "3\n",
      "3\n",
      "3\n",
      "3\n",
      "3\n",
      "3\n",
      "3\n",
      "3\n",
      "3\n",
      "3\n",
      "3\n",
      "3\n",
      "3\n",
      "3\n",
      "3\n",
      "3\n",
      "3\n",
      "3\n",
      "3\n",
      "3\n",
      "3\n",
      "3\n",
      "3\n",
      "3\n",
      "3\n",
      "3\n",
      "3\n",
      "3\n",
      "3\n",
      "3\n",
      "3\n",
      "3\n",
      "3\n",
      "3\n",
      "3\n",
      "3\n",
      "3\n",
      "3\n",
      "3\n",
      "3\n",
      "3\n",
      "3\n",
      "3\n",
      "3\n",
      "3\n",
      "3\n",
      "3\n",
      "3\n",
      "3\n",
      "3\n",
      "3\n",
      "3\n",
      "3\n",
      "3\n",
      "3\n",
      "3\n",
      "3\n",
      "3\n",
      "3\n",
      "3\n",
      "3\n",
      "3\n",
      "3\n",
      "3\n",
      "3\n",
      "3\n",
      "3\n",
      "3\n",
      "3\n",
      "3\n",
      "3\n",
      "3\n",
      "3\n",
      "3\n",
      "3\n",
      "3\n",
      "3\n",
      "3\n",
      "3\n",
      "3\n",
      "3\n",
      "3\n",
      "3\n",
      "3\n",
      "3\n",
      "3\n",
      "3\n",
      "3\n",
      "3\n",
      "3\n",
      "3\n",
      "3\n",
      "3\n",
      "3\n",
      "3\n",
      "3\n",
      "3\n",
      "3\n",
      "3\n",
      "3\n",
      "3\n",
      "3\n",
      "3\n",
      "3\n",
      "3\n",
      "3\n",
      "3\n",
      "3\n",
      "3\n",
      "3\n",
      "3\n",
      "3\n",
      "3\n",
      "3\n",
      "3\n",
      "3\n",
      "3\n",
      "3\n",
      "3\n",
      "3\n",
      "3\n",
      "3\n",
      "3\n",
      "3\n",
      "3\n",
      "3\n",
      "3\n",
      "3\n",
      "3\n",
      "3\n",
      "3\n",
      "3\n",
      "3\n",
      "3\n",
      "3\n",
      "3\n",
      "3\n",
      "3\n",
      "3\n",
      "3\n",
      "3\n",
      "3\n",
      "3\n",
      "3\n",
      "3\n",
      "3\n",
      "3\n",
      "3\n",
      "3\n",
      "3\n",
      "3\n",
      "3\n",
      "3\n",
      "3\n",
      "3\n",
      "3\n",
      "3\n",
      "3\n",
      "3\n",
      "3\n",
      "3\n",
      "3\n",
      "3\n",
      "3\n",
      "3\n",
      "3\n",
      "3\n",
      "3\n",
      "3\n",
      "3\n",
      "3\n",
      "3\n",
      "3\n",
      "3\n",
      "3\n",
      "3\n",
      "3\n",
      "3\n",
      "3\n",
      "3\n",
      "3\n",
      "3\n",
      "3\n",
      "3\n",
      "3\n",
      "3\n",
      "3\n",
      "3\n",
      "3\n",
      "3\n",
      "3\n",
      "3\n",
      "3\n",
      "3\n",
      "3\n",
      "3\n",
      "3\n",
      "3\n",
      "3\n",
      "3\n",
      "3\n",
      "3\n",
      "3\n",
      "3\n",
      "3\n",
      "3\n",
      "3\n",
      "3\n",
      "3\n",
      "3\n",
      "3\n",
      "3\n",
      "3\n",
      "3\n",
      "3\n",
      "3\n",
      "3\n",
      "3\n",
      "3\n",
      "3\n",
      "3\n",
      "3\n",
      "3\n",
      "3\n",
      "3\n",
      "3\n",
      "3\n",
      "3\n",
      "3\n",
      "3\n",
      "3\n",
      "3\n",
      "3\n",
      "3\n",
      "3\n",
      "3\n",
      "3\n",
      "3\n",
      "3\n",
      "3\n",
      "3\n",
      "3\n",
      "3\n",
      "3\n",
      "3\n",
      "3\n",
      "3\n",
      "3\n",
      "3\n",
      "3\n",
      "3\n",
      "3\n",
      "3\n",
      "3\n",
      "3\n",
      "3\n",
      "3\n",
      "3\n",
      "3\n",
      "3\n",
      "3\n",
      "3\n",
      "3\n",
      "3\n",
      "3\n",
      "3\n",
      "3\n",
      "3\n",
      "3\n",
      "3\n",
      "3\n",
      "3\n",
      "3\n",
      "3\n",
      "3\n",
      "3\n",
      "3\n",
      "3\n",
      "3\n",
      "3\n",
      "3\n",
      "3\n",
      "3\n",
      "3\n",
      "3\n",
      "3\n",
      "3\n",
      "3\n",
      "3\n",
      "3\n",
      "3\n",
      "3\n",
      "3\n",
      "3\n",
      "3\n",
      "3\n",
      "3\n",
      "3\n",
      "3\n",
      "3\n",
      "3\n",
      "3\n",
      "3\n",
      "3\n",
      "3\n",
      "3\n",
      "3\n",
      "3\n",
      "3\n",
      "3\n",
      "3\n",
      "3\n",
      "3\n",
      "3\n",
      "3\n",
      "3\n",
      "3\n",
      "3\n",
      "3\n",
      "3\n",
      "3\n",
      "3\n",
      "3\n",
      "3\n",
      "3\n",
      "3\n",
      "3\n",
      "3\n",
      "3\n",
      "3\n",
      "3\n",
      "3\n",
      "3\n",
      "3\n",
      "3\n",
      "3\n",
      "3\n",
      "3\n"
     ]
    },
    {
     "data": {
      "image/png": "[encoded data removed]",
      "text/plain": [
       "<Figure size 1800x600 with 3 Axes>"
      ]
     },
     "metadata": {},
     "output_type": "display_data"
    }
   ],
   "source": [
    "import matplotlib.pyplot as plt\n",
    "import matplotlib.patches as patches\n",
    "\n",
    "def update_image_block(image, source, target, block_size, start_row, start_col):\n",
    "    image[start_row:start_row + block_size, start_col:start_col + block_size] = source[start_row:start_row + block_size, start_col:start_col + block_size]\n",
    "    return image\n",
    "\n",
    "def add_highlight(rectangles, start_row, start_col, block_size):\n",
    "    rect = patches.Rectangle((start_col, start_row), block_size, block_size, linewidth=1, edgecolor='r', facecolor='none')\n",
    "    rectangles.append(rect)\n",
    "\n",
    "block_size = 1\n",
    "R_cp_new = R_cp.copy()\n",
    "highlights = []\n",
    "\n",
    "fig, axes = plt.subplots(1, 3, figsize=(18, 6))\n",
    "\n",
    "# 遍历每个块\n",
    "for i in range(0, 28, block_size):\n",
    "    for j in range(0, 28, block_size):\n",
    "        temp_image = R_cp_new.copy()\n",
    "        temp_image = update_image_block(temp_image, X_cp.reshape(28, 28), R_cp, block_size, i, j)\n",
    "        \n",
    "        prediction = cnn.predict(temp_image.reshape(1, 784)).argmax()\n",
    "        print(prediction)\n",
    "\n",
    "        if prediction != target_label:\n",
    "            R_cp_new = update_image_block(R_cp_new, R_cp.reshape(28, 28), X_cp, block_size, i, j)\n",
    "        else:\n",
    "            R_cp_new = update_image_block(R_cp_new, X_cp.reshape(28, 28), R_cp, block_size, i, j)\n",
    "            add_highlight(highlights, i, j, block_size)\n",
    "\n",
    "# 显示原始和更新后的图片\n",
    "axes[0].imshow(R_cp, cmap='gray')\n",
    "axes[0].set_title('Original R_cp')\n",
    "\n",
    "axes[1].imshow(X_cp.reshape(28, 28), cmap='gray')\n",
    "axes[1].set_title('Original X_cp')\n",
    "\n",
    "axes[2].imshow(R_cp_new, cmap='gray')\n",
    "axes[2].set_title('R_cp_new')\n",
    "\n",
    "for rect in highlights:\n",
    "    axes[2].add_patch(rect)\n",
    "\n",
    "plt.show()\n"
   ]
  },
  {
   "cell_type": "code",
   "execution_count": 134,
   "id": "224b7c6ebaf5da1c",
   "metadata": {
    "ExecuteTime": {
     "end_time": "2024-07-09T12:25:04.179567Z",
     "start_time": "2024-07-09T12:25:04.072012Z"
    },
    "collapsed": false
   },
   "outputs": [
    {
     "data": {
      "image/png": "[encoded data removed]",
      "text/plain": [
       "<Figure size 640x480 with 1 Axes>"
      ]
     },
     "metadata": {},
     "output_type": "display_data"
    },
    {
     "name": "stdout",
     "output_type": "stream",
     "text": [
      "11\n"
     ]
    },
    {
     "data": {
      "text/plain": [
       "3"
      ]
     },
     "execution_count": 134,
     "metadata": {},
     "output_type": "execute_result"
    }
   ],
   "source": [
    "c_ik_new = np.where(X.reshape(28,28) != R_cp_new.reshape(28,28), 1, 0)\n",
    "plt.imshow(c_ik_new)\n",
    "plt.show()\n",
    "print(np.sum(c_ik_new))\n",
    "cnn.predict(R_cp_new.reshape(1,784)).argmax()"
   ]
  },
  {
   "cell_type": "code",
   "execution_count": 135,
   "id": "c836d33101503435",
   "metadata": {
    "ExecuteTime": {
     "end_time": "2024-07-09T12:25:09.112902Z",
     "start_time": "2024-07-09T12:25:08.979307Z"
    },
    "collapsed": false
   },
   "outputs": [
    {
     "data": {
      "image/png": "[encoded data removed]",
      "text/plain": [
       "<Figure size 640x480 with 1 Axes>"
      ]
     },
     "metadata": {},
     "output_type": "display_data"
    }
   ],
   "source": [
    "plt.imshow(R_cp_new.reshape(28,28)-X_cp.reshape(28,28))\n",
    "plt.show()"
   ]
  },
  {
   "cell_type": "markdown",
   "id": "981ee8dacb15a572",
   "metadata": {
    "collapsed": false
   },
   "source": [
    "## Compute Shapely"
   ]
  },
  {
   "cell_type": "code",
   "execution_count": 136,
   "id": "6dc2ff6794760bd6",
   "metadata": {
    "ExecuteTime": {
     "end_time": "2024-07-09T12:25:16.430652Z",
     "start_time": "2024-07-09T12:25:13.263306Z"
    },
    "collapsed": false
   },
   "outputs": [
    {
     "data": {
      "application/vnd.jupyter.widget-view+json": {
       "model_id": "18a8d455feda4a63b9ffb72c5f3b5365",
       "version_major": 2,
       "version_minor": 0
      },
      "text/plain": [
       "  0%|          | 0/1 [00:00<?, ?it/s]"
      ]
     },
     "metadata": {},
     "output_type": "display_data"
    },
    {
     "name": "stdout",
     "output_type": "stream",
     "text": [
      "[[[0. 0. 0. ... 0. 0. 0.]\n",
      "  [0. 0. 0. ... 0. 0. 0.]\n",
      "  [0. 0. 0. ... 0. 0. 0.]\n",
      "  ...\n",
      "  [0. 0. 0. ... 0. 0. 0.]\n",
      "  [0. 0. 0. ... 0. 0. 0.]\n",
      "  [0. 0. 0. ... 0. 0. 0.]]]\n"
     ]
    }
   ],
   "source": [
    "import shap\n",
    "R_cp_flat = R_cp.reshape(1, 784)\n",
    "X_cp_flat = X_cp.reshape(1, 784)\n",
    "\n",
    "# Calculate marginal probabilities\n",
    "p_mar = np.sum(p, axis=0)\n",
    "\n",
    "# Create a SHAP explainer based on the sampled data\n",
    "explainer_temp = shap.KernelExplainer(\n",
    "    cnn.predict, X_cp_flat\n",
    ")\n",
    "\n",
    "# Calculate SHAP values for R_cp_flat\n",
    "shap_sample_size = 'auto'\n",
    "shap_values = explainer_temp.shap_values(R_cp_flat, nsamples=shap_sample_size)\n",
    "\n",
    "print(shap_values)"
   ]
  },
  {
   "cell_type": "markdown",
   "id": "adcae070f4ca6038",
   "metadata": {
    "collapsed": false
   },
   "source": []
  },
  {
   "cell_type": "code",
   "execution_count": 137,
   "id": "3706203cfe245bca",
   "metadata": {
    "ExecuteTime": {
     "end_time": "2024-07-09T12:25:24.958598Z",
     "start_time": "2024-07-09T12:25:24.684826Z"
    },
    "collapsed": false
   },
   "outputs": [
    {
     "data": {
      "image/png": "[encoded data removed]",
      "text/plain": [
       "<Figure size 1500x500 with 4 Axes>"
      ]
     },
     "metadata": {},
     "output_type": "display_data"
    }
   ],
   "source": [
    "predicted_class = target_label\n",
    "\n",
    "shap_values_class = shap_values[0, :, predicted_class].reshape(28, 28)\n",
    "\n",
    "fig, axes = plt.subplots(1, 3, figsize=(15, 5))\n",
    "\n",
    "axes[0].imshow(X_cp_flat.reshape(28, 28), cmap='gray')\n",
    "axes[0].set_title('Original Image')\n",
    "axes[0].axis('off')\n",
    "\n",
    "shap_display = axes[1].imshow(shap_values_class, cmap='viridis')\n",
    "axes[1].set_title(f'SHAP Values for Class {predicted_class}')\n",
    "axes[1].axis('off')\n",
    "\n",
    "cbar = fig.colorbar(shap_display, ax=axes[1], orientation='vertical')\n",
    "cbar.set_label('SHAP value magnitude')\n",
    "\n",
    "effect_display = axes[2].imshow(R_cp_flat.reshape(28, 28) + shap_values_class * 0.5, cmap='gray')\n",
    "axes[2].set_title('Effect of SHAP Values on Image')\n",
    "axes[2].axis('off')\n",
    "\n",
    "plt.tight_layout()\n",
    "plt.show()\n"
   ]
  },
  {
   "cell_type": "code",
   "execution_count": 147,
   "id": "c80246bf7cce3c3e",
   "metadata": {
    "ExecuteTime": {
     "end_time": "2024-07-09T12:26:56.544438Z",
     "start_time": "2024-07-09T12:26:55.629046Z"
    },
    "collapsed": false
   },
   "outputs": [
    {
     "data": {
      "image/png": "[encoded data removed]",
      "text/plain": [
       "<Figure size 2000x500 with 5 Axes>"
      ]
     },
     "metadata": {},
     "output_type": "display_data"
    }
   ],
   "source": [
    "import matplotlib.patches as patches\n",
    "\n",
    "predicted_class = target_label\n",
    "\n",
    "shap_values_class = shap_values[0, :, predicted_class].reshape(28, 28)\n",
    "\n",
    "flat_shap_values = shap_values_class.flatten()\n",
    "top_21_indices = np.argpartition(flat_shap_values, -11)[-11:]\n",
    "top_21_positions = np.unravel_index(top_21_indices, shap_values_class.shape)\n",
    "\n",
    "highlight_mask = np.zeros_like(shap_values_class)\n",
    "\n",
    "highlight_mask[top_21_positions] = 1\n",
    "\n",
    "# 显示结果\n",
    "fig, axes = plt.subplots(1, 4, figsize=(20, 5))\n",
    "\n",
    "axes[0].imshow(X_cp_flat.reshape(28, 28), cmap='gray')\n",
    "axes[0].set_title('Original Image')\n",
    "axes[0].axis('off')\n",
    "\n",
    "shap_display = axes[1].imshow(shap_values_class, cmap='viridis')\n",
    "axes[1].set_title(f'SHAP Values for Class {predicted_class}')\n",
    "axes[1].axis('off')\n",
    "\n",
    "cbar = fig.colorbar(shap_display, ax=axes[1], orientation='vertical')\n",
    "cbar.set_label('SHAP value magnitude')\n",
    "\n",
    "effect_display = axes[2].imshow(R_cp_flat.reshape(28, 28) + shap_values_class * 0.5, cmap='gray')\n",
    "axes[2].set_title('Effect of SHAP Values on Image')\n",
    "axes[2].axis('off')\n",
    "\n",
    "axes[3].imshow(highlight_mask, cmap='gray')\n",
    "axes[3].set_title('Top 21 SHAP Value Positions')\n",
    "axes[3].axis('off')\n",
    "\n",
    "plt.tight_layout()\n",
    "plt.show()\n"
   ]
  },
  {
   "cell_type": "code",
   "execution_count": 148,
   "id": "50a67de265605cc0",
   "metadata": {
    "ExecuteTime": {
     "end_time": "2024-07-09T12:26:59.655207Z",
     "start_time": "2024-07-09T12:26:59.478179Z"
    },
    "collapsed": false
   },
   "outputs": [
    {
     "data": {
      "image/png": "[encoded data removed]",
      "text/plain": [
       "<Figure size 640x480 with 1 Axes>"
      ]
     },
     "metadata": {},
     "output_type": "display_data"
    }
   ],
   "source": [
    "fig, ax = plt.subplots()\n",
    "ax.imshow(c_ik_new, cmap='gray')\n",
    "ax.set_title('c_ik_new with Top 21 SHAP Values Highlighted and Ranked')\n",
    "\n",
    "for i, pos in enumerate(zip(*top_21_positions)):\n",
    "    rect = patches.Rectangle((pos[1] - 0.5, pos[0] - 0.5), 1, 1, linewidth=1, edgecolor='r', facecolor='none')\n",
    "    ax.add_patch(rect)\n",
    "    ax.text(pos[1], pos[0], str(i+1), color='red', ha='center', va='center', fontsize=8, weight='bold')\n",
    "\n",
    "plt.show()"
   ]
  },
  {
   "cell_type": "code",
   "execution_count": 149,
   "id": "d6b2e6a85b6b4c8f",
   "metadata": {
    "ExecuteTime": {
     "end_time": "2024-07-09T12:27:03.471143Z",
     "start_time": "2024-07-09T12:27:03.375733Z"
    },
    "collapsed": false
   },
   "outputs": [
    {
     "data": {
      "image/png": "[encoded data removed]",
      "text/plain": [
       "<Figure size 640x480 with 1 Axes>"
      ]
     },
     "metadata": {},
     "output_type": "display_data"
    },
    {
     "name": "stdout",
     "output_type": "stream",
     "text": [
      "3\n"
     ]
    }
   ],
   "source": [
    "top_21_positions_list = list(zip(*top_21_positions))\n",
    "\n",
    "new_image = X_cp.reshape(1,784).copy()\n",
    "\n",
    "for pos in top_21_positions_list:\n",
    "    index = pos[0] * 28 + pos[1]\n",
    "    new_image[:,index] = R_cp.reshape(1,784)[:,index]\n",
    "\n",
    "new_image_reshaped = new_image.reshape(28, 28)\n",
    "\n",
    "plt.imshow(new_image_reshaped, cmap='gray')\n",
    "plt.title('New Image with Top 21 SHAP Value Positions Replaced')\n",
    "plt.axis('off')\n",
    "plt.show()\n",
    "\n",
    "print(cnn.predict(new_image.reshape(1,784)).argmax())"
   ]
  },
  {
   "cell_type": "markdown",
   "id": "b0e4d412327b1361",
   "metadata": {
    "collapsed": false
   },
   "source": [
    "## Compute Pixel Values"
   ]
  },
  {
   "cell_type": "code",
   "execution_count": 38,
   "id": "be68efd82226b5c0",
   "metadata": {
    "ExecuteTime": {
     "end_time": "2024-07-01T11:24:45.907908Z",
     "start_time": "2024-07-01T11:24:45.889883Z"
    },
    "collapsed": false
   },
   "outputs": [
    {
     "name": "stdout",
     "output_type": "stream",
     "text": [
      "[[-0.5        -0.5        -0.5        -0.5        -0.5        -0.5\n",
      "  -0.5        -0.5        -0.5        -0.5        -0.5        -0.5\n",
      "  -0.5        -0.5        -0.5        -0.5        -0.5        -0.5\n",
      "  -0.5        -0.5        -0.5        -0.5        -0.5        -0.5\n",
      "  -0.5        -0.5        -0.5        -0.5        -0.5        -0.5\n",
      "  -0.5        -0.5        -0.5        -0.5        -0.5        -0.5\n",
      "  -0.5        -0.5        -0.5        -0.5        -0.5        -0.5\n",
      "  -0.5        -0.5        -0.5        -0.5        -0.5        -0.5\n",
      "  -0.5        -0.5        -0.5        -0.5        -0.5        -0.5\n",
      "  -0.5        -0.5        -0.5        -0.5        -0.5        -0.5\n",
      "  -0.5        -0.5        -0.5        -0.5        -0.5        -0.5\n",
      "  -0.5        -0.5        -0.5        -0.5        -0.5        -0.5\n",
      "  -0.5        -0.5        -0.5        -0.5        -0.5        -0.5\n",
      "  -0.5        -0.5        -0.5        -0.5        -0.5        -0.5\n",
      "  -0.5        -0.5        -0.5        -0.5        -0.5        -0.5\n",
      "  -0.5        -0.5        -0.5        -0.5        -0.5        -0.5\n",
      "  -0.5        -0.5        -0.5        -0.5        -0.5        -0.5\n",
      "  -0.5        -0.5        -0.5        -0.5        -0.5        -0.5\n",
      "  -0.5        -0.5        -0.5        -0.5        -0.5        -0.5\n",
      "  -0.5        -0.5        -0.5        -0.5        -0.5        -0.5\n",
      "  -0.5        -0.5        -0.5        -0.5        -0.5        -0.5\n",
      "  -0.5        -0.5        -0.5        -0.5        -0.5        -0.5\n",
      "  -0.5        -0.5        -0.5        -0.5        -0.5        -0.5\n",
      "  -0.5        -0.5        -0.5        -0.5        -0.5        -0.5\n",
      "  -0.5        -0.5        -0.5        -0.5        -0.5        -0.5\n",
      "  -0.5        -0.5        -0.5        -0.5        -0.5        -0.5\n",
      "  -0.5        -0.5        -0.5        -0.5        -0.5        -0.5\n",
      "  -0.5        -0.5        -0.5        -0.5        -0.5        -0.5\n",
      "  -0.5        -0.5        -0.5        -0.5        -0.5        -0.5\n",
      "  -0.5        -0.5        -0.5        -0.5        -0.5        -0.5\n",
      "  -0.5        -0.5        -0.5        -0.5        -0.5        -0.5\n",
      "  -0.5        -0.5        -0.5        -0.5        -0.5        -0.5\n",
      "  -0.5        -0.5        -0.5        -0.5        -0.5        -0.5\n",
      "  -0.5        -0.5        -0.5        -0.5        -0.5        -0.5\n",
      "  -0.5        -0.5        -0.5        -0.5        -0.5        -0.5\n",
      "  -0.5        -0.5        -0.5        -0.5        -0.5        -0.5\n",
      "  -0.5        -0.5        -0.5        -0.5        -0.5        -0.5\n",
      "  -0.5        -0.5        -0.5        -0.5        -0.5        -0.5\n",
      "  -0.5        -0.5        -0.5        -0.5        -0.5        -0.5\n",
      "  -0.5        -0.5        -0.5        -0.5        -0.5        -0.5\n",
      "  -0.5        -0.5        -0.5        -0.5        -0.5        -0.5\n",
      "  -0.5        -0.5        -0.5        -0.5        -0.5        -0.5\n",
      "  -0.5        -0.5        -0.5        -0.5        -0.5        -0.5\n",
      "  -0.5        -0.5        -0.5        -0.5        -0.5        -0.5\n",
      "  -0.5        -0.5        -0.5        -0.5        -0.5        -0.5\n",
      "  -0.5        -0.5        -0.5        -0.5        -0.5        -0.5\n",
      "  -0.5        -0.5        -0.5        -0.5        -0.5        -0.5\n",
      "  -0.5        -0.5        -0.5        -0.5        -0.5        -0.5\n",
      "  -0.5        -0.5        -0.5        -0.5        -0.5        -0.5\n",
      "  -0.5        -0.5        -0.5        -0.5        -0.5        -0.5\n",
      "  -0.5        -0.5        -0.5        -0.5        -0.5        -0.5\n",
      "  -0.5        -0.5        -0.5        -0.5        -0.5        -0.5\n",
      "  -0.5        -0.5        -0.5        -0.5        -0.5        -0.5\n",
      "  -0.5        -0.5        -0.5        -0.5        -0.5        -0.5\n",
      "  -0.5        -0.5        -0.5        -0.5        -0.5        -0.5\n",
      "  -0.5        -0.5        -0.5        -0.5        -0.5        -0.5\n",
      "  -0.5        -0.5        -0.5        -0.5        -0.5        -0.5\n",
      "  -0.5        -0.5        -0.5        -0.5        -0.5        -0.5\n",
      "  -0.5        -0.5        -0.5        -0.5        -0.5        -0.5\n",
      "  -0.5        -0.5        -0.5        -0.5        -0.5        -0.5\n",
      "  -0.5        -0.5        -0.5        -0.5        -0.5        -0.5\n",
      "  -0.5        -0.5        -0.5        -0.5        -0.5        -0.5\n",
      "  -0.5        -0.5        -0.5        -0.5        -0.5        -0.5\n",
      "  -0.5        -0.5        -0.5        -0.5        -0.5        -0.5\n",
      "  -0.5        -0.5        -0.5        -0.5        -0.5        -0.5\n",
      "  -0.5        -0.5        -0.5        -0.5        -0.5        -0.5\n",
      "  -0.5        -0.5        -0.5        -0.5        -0.5        -0.5\n",
      "  -0.5        -0.5        -0.5        -0.5        -0.5        -0.5\n",
      "  -0.5        -0.5        -0.5        -0.5        -0.5        -0.5\n",
      "  -0.5        -0.5        -0.5        -0.5        -0.5        -0.5\n",
      "  -0.5        -0.5        -0.5        -0.5        -0.5        -0.5\n",
      "  -0.5        -0.5        -0.5        -0.5        -0.5        -0.5\n",
      "  -0.5        -0.5        -0.5        -0.5        -0.5        -0.5\n",
      "  -0.5        -0.5        -0.5        -0.5        -0.5        -0.5\n",
      "  -0.5        -0.5        -0.5        -0.5        -0.5        -0.5\n",
      "  -0.5        -0.5        -0.5        -0.5        -0.5        -0.5\n",
      "  -0.5        -0.5        -0.5        -0.5        -0.5        -0.5\n",
      "  -0.5        -0.5        -0.5        -0.5        -0.5        -0.5\n",
      "  -0.5        -0.5        -0.5        -0.5        -0.5        -0.5\n",
      "  -0.5        -0.5        -0.5        -0.5        -0.5        -0.5\n",
      "  -0.5        -0.5        -0.5        -0.5        -0.5        -0.5\n",
      "  -0.5        -0.5        -0.5        -0.5        -0.5        -0.5\n",
      "  -0.5        -0.5        -0.5        -0.5        -0.5        -0.5\n",
      "  -0.5        -0.5        -0.5        -0.5        -0.5        -0.5\n",
      "  -0.5        -0.5        -0.5        -0.5        -0.5        -0.5\n",
      "  -0.5        -0.5        -0.5        -0.5        -0.5        -0.5\n",
      "  -0.5        -0.5        -0.5        -0.5        -0.5        -0.5\n",
      "  -0.5        -0.5        -0.5        -0.5        -0.5        -0.5\n",
      "  -0.5        -0.5        -0.5        -0.5        -0.5        -0.5\n",
      "  -0.5        -0.5        -0.5        -0.5        -0.5        -0.5\n",
      "  -0.5        -0.5        -0.5        -0.5        -0.5        -0.5\n",
      "  -0.5        -0.5        -0.5        -0.5        -0.5        -0.5\n",
      "  -0.5        -0.5        -0.5        -0.5        -0.5        -0.5\n",
      "  -0.5        -0.5        -0.5        -0.5        -0.5        -0.5\n",
      "  -0.5        -0.5        -0.5        -0.5        -0.5        -0.5\n",
      "  -0.5        -0.5        -0.5        -0.5        -0.5        -0.5\n",
      "  -0.5        -0.5        -0.5        -0.5        -0.5        -0.5\n",
      "  -0.5        -0.5        -0.5        -0.5        -0.5        -0.5\n",
      "  -0.5        -0.5        -0.5        -0.5        -0.5        -0.5\n",
      "  -0.5        -0.5        -0.5        -0.5        -0.5        -0.5\n",
      "  -0.5        -0.5        -0.5        -0.5        -0.5        -0.5\n",
      "  -0.5        -0.5        -0.5        -0.5        -0.5        -0.5\n",
      "  -0.5        -0.5        -0.5        -0.5        -0.5        -0.5\n",
      "  -0.5        -0.5        -0.5        -0.5        -0.5        -0.5\n",
      "  -0.5        -0.5        -0.5        -0.5        -0.5        -0.5\n",
      "  -0.5        -0.5        -0.5        -0.5        -0.5        -0.5\n",
      "  -0.5        -0.5        -0.5        -0.5        -0.5        -0.5\n",
      "  -0.5        -0.5        -0.5        -0.5        -0.5        -0.46078432\n",
      "  -0.46078432 -0.46078432 -0.42156863 -0.42156863 -0.42156863 -0.42156863\n",
      "  -0.41764706 -0.41764706 -0.41764706 -0.41764706 -0.38235295 -0.3681033\n",
      "  -0.3407863  -0.3392157  -0.3392157  -0.3392157  -0.30392158 -0.30392158\n",
      "  -0.30392158 -0.3        -0.3        -0.3        -0.3        -0.3\n",
      "  -0.3        -0.2607527  -0.25686276 -0.2248008  -0.22156861 -0.18235293\n",
      "  -0.17843136 -0.17843136 -0.17843136 -0.17843136 -0.17843136 -0.13445348\n",
      "  -0.13445348 -0.09999999 -0.09999999 -0.09999999 -0.09999999 -0.09999999\n",
      "  -0.09999999 -0.09999999 -0.06078431 -0.06078431 -0.05686274 -0.02118138\n",
      "  -0.01764706  0.01372552  0.01764709  0.06098282  0.06098282  0.06098282\n",
      "   0.09215689  0.09215689  0.09215689  0.09215689  0.09215689  0.09891476\n",
      "   0.10453548  0.10453548  0.13529414  0.13529414  0.17303541  0.17721936\n",
      "   0.17721936  0.19243869  0.19243869  0.21764708  0.2529412   0.2529412\n",
      "   0.26030508  0.29607844  0.29607844  0.29607844  0.29607844  0.29607844\n",
      "   0.29607844  0.29607844  0.29607844  0.29607844  0.33137256  0.33137256\n",
      "   0.33137256  0.33137256  0.33529413  0.33529413  0.33529413  0.3392157\n",
      "   0.3392157   0.3745098   0.3745098   0.3745098   0.40980393  0.40980393\n",
      "   0.4137255   0.4137255   0.41764706  0.41764706  0.41764706  0.41764706\n",
      "   0.45686275  0.45686275  0.4882353   0.4882353   0.4882353   0.4882353\n",
      "   0.4882353   0.4882353   0.49215686  0.49215686  0.49215686  0.49215686\n",
      "   0.49215686  0.49215686  0.49215686  0.49215686  0.49215686  0.49215686\n",
      "   0.49215686  0.49215686  0.49215686  0.49215686  0.49215686  0.49215686\n",
      "   0.49215686  0.49215686  0.49215686  0.49607843  0.49607843  0.49607843\n",
      "   0.49607843  0.49607843  0.49607843  0.5       ]]\n"
     ]
    }
   ],
   "source": [
    "tau_i = np.argmax(p, axis=1)\n",
    "q_max = R_cp_flat[:,tau_i]"
   ]
  },
  {
   "cell_type": "code",
   "execution_count": 47,
   "id": "95d2208f8a08c135",
   "metadata": {
    "ExecuteTime": {
     "end_time": "2024-07-01T11:41:09.940688Z",
     "start_time": "2024-07-01T11:41:09.830056Z"
    },
    "collapsed": false
   },
   "outputs": [
    {
     "data": {
      "image/png": "[encoded data removed]",
      "text/plain": [
       "<Figure size 600x600 with 1 Axes>"
      ]
     },
     "metadata": {},
     "output_type": "display_data"
    }
   ],
   "source": [
    "q_max_reshaped = q_max.reshape(28, 28)\n",
    "X_cp_reshaped = X_cp.reshape(28, 28)\n",
    "\n",
    "# Plotting the images with different colors\n",
    "fig, ax = plt.subplots(figsize=(6, 6))\n",
    "\n",
    "# Create a base image with zeros\n",
    "base_image = np.zeros((28, 28, 3))\n",
    "\n",
    "# Normalize the images for better visualization\n",
    "q_max_norm = (q_max_reshaped - q_max_reshaped.min()) / (q_max_reshaped.max() - q_max_reshaped.min())\n",
    "X_cp_norm = (X_cp_reshaped - X_cp_reshaped.min()) / (X_cp_reshaped.max() - X_cp_reshaped.min())\n",
    "\n",
    "# Set q_max values to red channel\n",
    "base_image[:, :, 0] = q_max_norm\n",
    "\n",
    "# Set X_cp values to green channel\n",
    "base_image[:, :, 1] = X_cp_norm\n",
    "\n",
    "# Display the combined image\n",
    "ax.imshow(base_image)\n",
    "ax.set_title('q_max (Red) and X_cp (Green)')\n",
    "ax.axis('off')\n",
    "\n",
    "plt.show()"
   ]
  },
  {
   "cell_type": "code",
   "execution_count": 41,
   "id": "a3b377e15dde4f24",
   "metadata": {
    "ExecuteTime": {
     "end_time": "2024-07-01T11:36:10.117472Z",
     "start_time": "2024-07-01T11:36:10.104516Z"
    },
    "collapsed": false
   },
   "outputs": [
    {
     "name": "stdout",
     "output_type": "stream",
     "text": [
      "Final C: 52, Predicted Class: 5\n"
     ]
    }
   ],
   "source": [
    "C = 52\n",
    "\n",
    "# Get the indices of the top C SHAP values\n",
    "flat_shap_values = shap_values_class.flatten()\n",
    "top_indices = np.argsort(-flat_shap_values)[:C]\n",
    "\n",
    "# Create a copy of X_cp_flat to modify\n",
    "new_image_flat = X_cp_flat.copy()\n",
    "\n",
    "# Replace the values in new_image_flat at top_indices with corresponding values from q_max\n",
    "new_image_flat[:, top_indices] = q_max[:,top_indices]\n",
    "\n",
    "# Reshape the new image\n",
    "new_image = new_image_flat.reshape(1, 784)\n",
    "\n",
    "# Predict the class of the new image\n",
    "predicted_new = cnn.predict(new_image).argmax()\n",
    "\n",
    "# Iterate until the predicted class is no longer 8 or C reaches 0\n",
    "while predicted_new == 8 and C > 0:\n",
    "    C -= 1\n",
    "    top_indices = np.argsort(-flat_shap_values)[:C]\n",
    "    new_image_flat = X_cp_flat.copy()\n",
    "    new_image_flat[:, top_indices] = q_max[top_indices]\n",
    "    new_image = new_image_flat.reshape(1, 784)\n",
    "    predicted_new = cnn.predict(new_image).argmax()\n",
    "\n",
    "print(f\"Final C: {C}, Predicted Class: {predicted_new}\")"
   ]
  },
  {
   "cell_type": "markdown",
   "id": "64d2201f7250b23e",
   "metadata": {
    "collapsed": false
   },
   "source": [
    "## Optain Counter Factual Image"
   ]
  },
  {
   "cell_type": "code",
   "execution_count": null,
   "id": "1e996ab50862015b",
   "metadata": {
    "collapsed": false
   },
   "outputs": [],
   "source": []
  },
  {
   "cell_type": "markdown",
   "id": "75319283dd13b791",
   "metadata": {
    "collapsed": false
   },
   "source": []
  }
 ],
 "metadata": {
  "kernelspec": {
   "display_name": "Python 3",
   "language": "python",
   "name": "python3"
  },
  "language_info": {
   "codemirror_mode": {
    "name": "ipython",
    "version": 2
   },
   "file_extension": ".py",
   "mimetype": "text/x-python",
   "name": "python",
   "nbconvert_exporter": "python",
   "pygments_lexer": "ipython2",
   "version": "2.7.6"
  }
 },
 "nbformat": 4,
 "nbformat_minor": 5
}
